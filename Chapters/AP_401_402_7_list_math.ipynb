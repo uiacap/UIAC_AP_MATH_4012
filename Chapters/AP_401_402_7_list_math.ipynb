{
  "nbformat": 4,
  "nbformat_minor": 0,
  "metadata": {
    "colab": {
      "provenance": [],
      "authorship_tag": "ABX9TyOLAk0OIkYxNd/z0AFz/Jsd",
      "include_colab_link": true
    },
    "kernelspec": {
      "name": "python3",
      "display_name": "Python 3"
    },
    "language_info": {
      "name": "python"
    }
  },
  "cells": [
    {
      "cell_type": "markdown",
      "metadata": {
        "id": "view-in-github",
        "colab_type": "text"
      },
      "source": [
        "<a href=\"https://colab.research.google.com/github/uiacap/UIAC_AP_MATH_4012/blob/main/Chapters/AP_401_402_7_list_math.ipynb\" target=\"_parent\"><img src=\"https://colab.research.google.com/assets/colab-badge.svg\" alt=\"Open In Colab\"/></a>"
      ]
    },
    {
      "cell_type": "markdown",
      "source": [
        "<div dir=rtl>\n",
        "نوع داده لیست در پایتون:\n",
        "</br>\n",
        "در صورتیکه بخواهیم نوع داده ای داشته باشیم که به جای یک مقدار از تعدادی از مقادیر تشکیل شده باشد، می توانیم از نوع داده list، Tuple، Set یا dictionary استفاده کنیم\n",
        "</br>\n",
        "نوع داده list:\n",
        "</br>\n",
        "لیست مقداری است که شامل تعدادی مقدار است.\n",
        "</br>\n",
        "برای تعریف لیست از [ , ] استفاده می کنیم\n",
        "</br>\n",
        "برای مثال متغیر a در زیر مقدار دهی شده است، شامل یک لیست با چهار عنصر می باشد.\n",
        "</div>"
      ],
      "metadata": {
        "id": "GKrG-hqQzOlb"
      }
    },
    {
      "cell_type": "code",
      "execution_count": 8,
      "metadata": {
        "id": "0fw_zqBCzH4v",
        "colab": {
          "base_uri": "https://localhost:8080/"
        },
        "outputId": "390963a5-33fc-41c2-89db-289bd32c7f6a"
      },
      "outputs": [
        {
          "output_type": "stream",
          "name": "stdout",
          "text": [
            "<class 'list'>\n",
            "a\n",
            "[2, 'abc', 2.3, 4]\n",
            "[2, 2.3]\n",
            "[1, 2, 'abc', 2.3]\n",
            "['abc', 2.3, 4, 5, 7.8]\n",
            "[1, 2, 'abc', 2.3, 4, 5, 7.8]\n"
          ]
        }
      ],
      "source": [
        "a = [1,2,4, 17]\n",
        "b = ['abc', 'a', 'abv', 'adgh']\n",
        "c = [1,2, 'abc', 2.3, 4, 5, 7.8]\n",
        "d = [[1,2,4.5], 'sd']\n",
        "print(type(a))\n",
        "print(b[1])\n",
        "print(c[1:5])\n",
        "print(c[1:5:2])\n",
        "print(c[:4])\n",
        "print(c[2:])\n",
        "print(c[:])"
      ]
    },
    {
      "cell_type": "markdown",
      "source": [
        "<div dir = rtl>\n",
        "عملگرهای + و * را برای لیست ها داریم.\n",
        "</div>"
      ],
      "metadata": {
        "id": "Z1FJllQmLFWl"
      }
    },
    {
      "cell_type": "code",
      "source": [
        "l1 = [2,4,\"abi\", 2.4]\n",
        "l2 = [2, 'python']\n",
        "print(l1[-1])\n",
        "print(l1+l2)\n",
        "print(l2 * 2)\n",
        "\n",
        "\n"
      ],
      "metadata": {
        "id": "Dzi6N31WLOco",
        "colab": {
          "base_uri": "https://localhost:8080/"
        },
        "outputId": "6072d184-4726-4428-ed5e-151603a614ec"
      },
      "execution_count": 14,
      "outputs": [
        {
          "output_type": "stream",
          "name": "stdout",
          "text": [
            "2.4\n",
            "[2, 4, 'abi', 2.4, 2, 'python']\n",
            "[2, 'python', 2, 'python']\n"
          ]
        }
      ]
    },
    {
      "cell_type": "markdown",
      "source": [
        "<div dir=rtl>\n",
        "برای دسترسی به عناصر لیست مانند رشته های از ایندکس عناصر استفاده می کنیم.\n",
        "</br>\n",
        "عناصر از ایندکس 0 شروع می شوند.\n",
        "</br>\n",
        "با استفاده از عملگر : نیز می توان یک زیر لیست از لیست داشت\n",
        "</br>\n",
        "عناصر لیست از آخر به اول با اندیس های منفی شماره گذاری می شوند که از 1- شروع می شود.\n",
        "</div>"
      ],
      "metadata": {
        "id": "Hcp_fnmM9l5Z"
      }
    },
    {
      "cell_type": "code",
      "source": [],
      "metadata": {
        "id": "lPF8-QPG-rFj"
      },
      "execution_count": null,
      "outputs": []
    },
    {
      "cell_type": "markdown",
      "source": [
        "Nested indexing\n",
        "</br>\n"
      ],
      "metadata": {
        "id": "v6nziNXi-rfd"
      }
    },
    {
      "cell_type": "code",
      "source": [
        "nl = [\"python\", [2,0,[4,'b'],5]]\n",
        "\n",
        "print(nl[1][1])\n",
        "print(nl[1][2][1])"
      ],
      "metadata": {
        "id": "nNwIl7eSI7e6",
        "colab": {
          "base_uri": "https://localhost:8080/"
        },
        "outputId": "44b04a6e-ac2a-46ae-dd75-20a6694fede0"
      },
      "execution_count": 11,
      "outputs": [
        {
          "output_type": "stream",
          "name": "stdout",
          "text": [
            "0\n",
            "b\n"
          ]
        }
      ]
    },
    {
      "cell_type": "markdown",
      "source": [
        "<div dir=rtl>\n",
        "لیست ها قابل تغییر هستند\n",
        "</br>\n",
        "میخواهیم عنصر 4 از لیست زیر را تغییر دهیم\n",
        "</div>\n"
      ],
      "metadata": {
        "id": "NK91K_87JZLD"
      }
    },
    {
      "cell_type": "code",
      "source": [
        "odd_list = [2, 4, 6, 8, 10, 12]\n",
        "odd_list[3] = 14\n",
        "#odd_list[6] = 10\n",
        "print(odd_list)"
      ],
      "metadata": {
        "id": "X2RLANG_Jmrq",
        "colab": {
          "base_uri": "https://localhost:8080/",
          "height": 218
        },
        "outputId": "e8e2fff6-4e1f-4e61-8b0b-f0c00f320128"
      },
      "execution_count": 18,
      "outputs": [
        {
          "output_type": "error",
          "ename": "IndexError",
          "evalue": "ignored",
          "traceback": [
            "\u001b[0;31m---------------------------------------------------------------------------\u001b[0m",
            "\u001b[0;31mIndexError\u001b[0m                                Traceback (most recent call last)",
            "\u001b[0;32m<ipython-input-18-c07d30ede979>\u001b[0m in \u001b[0;36m<module>\u001b[0;34m\u001b[0m\n\u001b[1;32m      1\u001b[0m \u001b[0modd_list\u001b[0m \u001b[0;34m=\u001b[0m \u001b[0;34m[\u001b[0m\u001b[0;36m2\u001b[0m\u001b[0;34m,\u001b[0m \u001b[0;36m4\u001b[0m\u001b[0;34m,\u001b[0m \u001b[0;36m6\u001b[0m\u001b[0;34m,\u001b[0m \u001b[0;36m8\u001b[0m\u001b[0;34m,\u001b[0m \u001b[0;36m10\u001b[0m\u001b[0;34m,\u001b[0m \u001b[0;36m12\u001b[0m\u001b[0;34m]\u001b[0m\u001b[0;34m\u001b[0m\u001b[0;34m\u001b[0m\u001b[0m\n\u001b[1;32m      2\u001b[0m \u001b[0modd_list\u001b[0m\u001b[0;34m[\u001b[0m\u001b[0;36m3\u001b[0m\u001b[0;34m]\u001b[0m \u001b[0;34m=\u001b[0m \u001b[0;36m14\u001b[0m\u001b[0;34m\u001b[0m\u001b[0;34m\u001b[0m\u001b[0m\n\u001b[0;32m----> 3\u001b[0;31m \u001b[0modd_list\u001b[0m\u001b[0;34m[\u001b[0m\u001b[0;36m6\u001b[0m\u001b[0;34m]\u001b[0m \u001b[0;34m=\u001b[0m \u001b[0;36m10\u001b[0m\u001b[0;34m\u001b[0m\u001b[0;34m\u001b[0m\u001b[0m\n\u001b[0m\u001b[1;32m      4\u001b[0m \u001b[0mprint\u001b[0m\u001b[0;34m(\u001b[0m\u001b[0modd_list\u001b[0m\u001b[0;34m)\u001b[0m\u001b[0;34m\u001b[0m\u001b[0;34m\u001b[0m\u001b[0m\n",
            "\u001b[0;31mIndexError\u001b[0m: list assignment index out of range"
          ]
        }
      ]
    },
    {
      "cell_type": "markdown",
      "source": [
        "change 2nd to 4th element"
      ],
      "metadata": {
        "id": "xtyN1zMQJ2Ye"
      }
    },
    {
      "cell_type": "code",
      "source": [
        "odd_list = [2, 4, 6, 8, 10, 12]\n",
        "#odd_list[1:4] = [5,9]\n",
        "odd_list[1:4] = []\n",
        "print(odd_list)"
      ],
      "metadata": {
        "id": "Yf0jbvR-J7CH",
        "colab": {
          "base_uri": "https://localhost:8080/"
        },
        "outputId": "da838754-cab0-4286-ee28-3d7b3bb84002"
      },
      "execution_count": 17,
      "outputs": [
        {
          "output_type": "stream",
          "name": "stdout",
          "text": [
            "[2, 10, 12]\n"
          ]
        }
      ]
    },
    {
      "cell_type": "markdown",
      "source": [
        "<div dir=rtl>\n",
        "برای اضافه کردن یک مقدار به ته لیست از دستور append استفاده می کنیم.\n",
        "</br>\n",
        "در صورتیکه به عنوان ورودی list مجموعه ای از مقادیر را بدهیم تمام آنها به لیست اضافه می شوند.\n",
        "</div>"
      ],
      "metadata": {
        "id": "D-I43_WcKb0U"
      }
    },
    {
      "cell_type": "code",
      "source": [
        "odd_list = [2, 4, 6, 8, 10, 12]\n",
        "odd_list.append(20)\n",
        "l = [3, 4.5]\n",
        "l.append(5)\n",
        "print(odd_list)\n",
        "print(l)"
      ],
      "metadata": {
        "id": "LxWOw1eDKpEF",
        "colab": {
          "base_uri": "https://localhost:8080/"
        },
        "outputId": "822c983f-d1d6-4002-c3da-2ee64d055f3e"
      },
      "execution_count": 20,
      "outputs": [
        {
          "output_type": "stream",
          "name": "stdout",
          "text": [
            "[2, 4, 6, 8, 10, 12, 20]\n",
            "[3, 4.5, 5]\n"
          ]
        }
      ]
    },
    {
      "cell_type": "markdown",
      "source": [
        "<div dir=rtl>\n",
        "اگر بخواهیم در مکانی از لیست مقداری را اضافه کنیم از تابع insert استفاده می کنیم.\n",
        "</br>\n",
        "در صورتیکه بخواهیم تعدادی مقدار را در مکانی از لیست اضافه کنیم. از زیر لیست با ابتدا و انتهای یکسان استفاده می کنیم.\n",
        "</div>"
      ],
      "metadata": {
        "id": "BrhzRf1yKszO"
      }
    },
    {
      "cell_type": "code",
      "source": [
        "l = [1,3,4,56,10]\n",
        "#l.insert(1,10)\n",
        "#print(l)\n",
        "l[2:2] = [1.3,4.5]\n",
        "print(l)"
      ],
      "metadata": {
        "id": "uD63SqbhLzZJ",
        "colab": {
          "base_uri": "https://localhost:8080/"
        },
        "outputId": "ca0ae97c-3a5e-4b51-cd3f-420865415721"
      },
      "execution_count": 22,
      "outputs": [
        {
          "output_type": "stream",
          "name": "stdout",
          "text": [
            "[1, 3, 1.3, 4.5, 4, 56, 10]\n"
          ]
        }
      ]
    },
    {
      "cell_type": "markdown",
      "source": [
        "<div dir=rtl>\n",
        "برای حذف یک مقدار از لیست از متد popاستفاده می کنیم. \n",
        "</br>\n",
        "متد pop به عنوان ورودی، ایندکس عنصر را گرفته ، آنرا حذف کرده و سپس مقدار آنرا بر می گرداند.\n",
        "</div>"
      ],
      "metadata": {
        "id": "OcV-Vf20MQ5-"
      }
    },
    {
      "cell_type": "code",
      "source": [
        "l = [1,3,4,56,10]\n",
        "print(l.pop())\n",
        "print(l)\n",
        "print(l.pop(2))\n",
        "print(l)"
      ],
      "metadata": {
        "colab": {
          "base_uri": "https://localhost:8080/"
        },
        "id": "WCUFTss6M21I",
        "outputId": "2ef8a432-45dd-4f39-9ba5-82d77ab4a5e1"
      },
      "execution_count": 24,
      "outputs": [
        {
          "output_type": "stream",
          "name": "stdout",
          "text": [
            "10\n",
            "[1, 3, 4, 56]\n",
            "4\n",
            "[1, 3, 56]\n"
          ]
        }
      ]
    },
    {
      "cell_type": "markdown",
      "source": [
        "<div dir=rtl>\n",
        "با استفاده از دستور del می توان هر متغیری را حذف کرد.\n",
        "</br>\n",
        "از این دستور می توانیم برای حذف عناصر لیست یا یک زیر لیست از لیست استفاده کرد.\n",
        "</dir>"
      ],
      "metadata": {
        "id": "NAVAWGFENAry"
      }
    },
    {
      "cell_type": "code",
      "source": [
        "a = 34\n",
        "print(a)\n",
        "del a\n",
        "print(a)"
      ],
      "metadata": {
        "id": "OgfwYa4ULTbl"
      },
      "execution_count": null,
      "outputs": []
    },
    {
      "cell_type": "code",
      "source": [
        "l = [1,3,4,56,10,'cv']\n",
        "del l[1]\n",
        "print(l)\n",
        "del l[2:4]\n",
        "print(l)"
      ],
      "metadata": {
        "id": "TV7LSo_jNQH6",
        "colab": {
          "base_uri": "https://localhost:8080/"
        },
        "outputId": "ac745b49-01bb-4e27-9d61-92aab73612b1"
      },
      "execution_count": 34,
      "outputs": [
        {
          "output_type": "stream",
          "name": "stdout",
          "text": [
            "[1, 4, 56, 10, 'cv']\n",
            "[1, 4, 'cv']\n"
          ]
        }
      ]
    },
    {
      "cell_type": "markdown",
      "source": [
        "<div dir=rtl>\n",
        "با استفاده از متد remove نیز می توان عنصری را از لیست حذف کرد.\n",
        "</br>\n",
        "تفاوت remove با pop این است که به جای ایندکس یک مقدار می گیرد و آنرا حذف کرده و در صورتیکه مقدار مورد نظر در لیست نبود، خطا بر می گرداند.\n",
        "</div>"
      ],
      "metadata": {
        "id": "Nrz6751QOtTW"
      }
    },
    {
      "cell_type": "code",
      "source": [
        "l = ['a','b','a','c','a']\n",
        "l.remove('a')\n",
        "print(l)\n",
        "if 'g' in l :\n",
        "  l.remove('g')\n",
        "\n",
        "while 'a' in l :\n",
        "  l.remove('a')\n",
        "print(l)"
      ],
      "metadata": {
        "id": "GPRyucVTO_Du",
        "colab": {
          "base_uri": "https://localhost:8080/"
        },
        "outputId": "3cbf8537-6d13-4032-fa21-b1cc3800378a"
      },
      "execution_count": 39,
      "outputs": [
        {
          "output_type": "stream",
          "name": "stdout",
          "text": [
            "['b', 'a', 'c', 'a']\n",
            "['b', 'c']\n"
          ]
        }
      ]
    },
    {
      "cell_type": "markdown",
      "source": [],
      "metadata": {
        "id": "8QHAV2evN8Yn"
      }
    },
    {
      "cell_type": "code",
      "source": [
        "l = [1,3,4,56,10,'cv']\n",
        "l.reverse()\n",
        "print(l)"
      ],
      "metadata": {
        "colab": {
          "base_uri": "https://localhost:8080/"
        },
        "id": "Be1zH-URMhFo",
        "outputId": "e524e680-ce31-422a-fd41-5e5a6ed0707d"
      },
      "execution_count": 40,
      "outputs": [
        {
          "output_type": "stream",
          "name": "stdout",
          "text": [
            "['cv', 10, 56, 4, 3, 1]\n"
          ]
        }
      ]
    },
    {
      "cell_type": "markdown",
      "source": [],
      "metadata": {
        "id": "T1_U51RdOIOP"
      }
    },
    {
      "cell_type": "code",
      "source": [
        "l = [1,3,4,56,10,'cv']\n",
        "print(l)\n",
        "l.clear()\n",
        "print(l)\n"
      ],
      "metadata": {
        "colab": {
          "base_uri": "https://localhost:8080/"
        },
        "id": "X_i7jyB2OLRq",
        "outputId": "02558ccb-9d8e-4c3c-ab82-e535a848f63c"
      },
      "execution_count": 41,
      "outputs": [
        {
          "output_type": "stream",
          "name": "stdout",
          "text": [
            "[1, 3, 4, 56, 10, 'cv']\n",
            "[]\n"
          ]
        }
      ]
    },
    {
      "cell_type": "markdown",
      "source": [],
      "metadata": {
        "id": "ZAZggiAYOTiw"
      }
    },
    {
      "cell_type": "code",
      "source": [],
      "metadata": {
        "colab": {
          "base_uri": "https://localhost:8080/"
        },
        "id": "AQCvOocYOUM7",
        "outputId": "8d90cb62-4d68-4505-aa5f-a15b65808799"
      },
      "execution_count": null,
      "outputs": [
        {
          "output_type": "stream",
          "name": "stdout",
          "text": [
            "[1, 3, 4, 56, 10, 'cv']\n"
          ]
        }
      ]
    },
    {
      "cell_type": "markdown",
      "source": [
        "<div dir = rtl>\n",
        "برنامه ای بنویسید که تعدادی کلمه را از کاربر خوانده تا وقتی کاربر یک خط خالی وارد کند. و سپس این کلمات را از آخر به اول چاپ کند.\n",
        "</div>\n"
      ],
      "metadata": {
        "id": "Dgc9xGyIGkbP"
      }
    },
    {
      "cell_type": "code",
      "source": [
        "#word = input()\n",
        "#while word != \"\" :\n",
        "#  word = input()\n",
        "\n",
        "l = []\n",
        "while True :\n",
        "  word = input()\n",
        "  if word == \"\" :\n",
        "    break\n",
        "  l.append(word)\n",
        "\n",
        "for i in range(1,(len(l)+1)):\n",
        "  print(l[-i], end=\" \")\n",
        "\n"
      ],
      "metadata": {
        "id": "IuDRWmILG9Lp"
      },
      "execution_count": null,
      "outputs": []
    },
    {
      "cell_type": "code",
      "source": [
        "l = []\n",
        "while True :\n",
        "  word = input()\n",
        "  if word == \"\" :\n",
        "    break\n",
        "  l.append(word)\n",
        "\n",
        "l1 = l[::-1] \n",
        "\n",
        "print(l)\n",
        "print(l1)"
      ],
      "metadata": {
        "colab": {
          "base_uri": "https://localhost:8080/"
        },
        "id": "z4FJCOxIKmJ4",
        "outputId": "b435065f-27d8-4ad8-99eb-840e40c97480"
      },
      "execution_count": 32,
      "outputs": [
        {
          "output_type": "stream",
          "name": "stdout",
          "text": [
            "ab\n",
            "ac\n",
            "ad\n",
            "\n",
            "['ab', 'ac', 'ad']\n",
            "['ad', 'ac', 'ab']\n"
          ]
        }
      ]
    },
    {
      "cell_type": "markdown",
      "source": [
        "<div dir=rtl>\n",
        "تابعی بنویسید که اعضای تکراری یک لیست را حذف کند.\n",
        "</div>"
      ],
      "metadata": {
        "id": "2FZPWvkpQHuJ"
      }
    },
    {
      "cell_type": "code",
      "source": [],
      "metadata": {
        "id": "YKAVVohRQPlU"
      },
      "execution_count": null,
      "outputs": []
    },
    {
      "cell_type": "markdown",
      "source": [
        "<div dir=rtl>\n",
        "برنامه ای که تعدادی کلمه را از کاربر بگیرد تا وقتی که کاربر یک خط خالی وارد کند\n",
        "و سپس کلمات تکراری را حذف کرده و کلمات خوانده شده را چاپ کند\n",
        "</div>"
      ],
      "metadata": {
        "id": "eLS2ChJwQP1A"
      }
    },
    {
      "cell_type": "code",
      "source": [
        "l = []\n",
        "l_all = []\n",
        "while True:\n",
        "  word = input()\n",
        "  if word == \"\" :\n",
        "    break\n",
        "  l_all.append(word)\n",
        "  if word  not in l :\n",
        "    l.append(word)\n",
        "\n",
        "for i in range(len(l)) :\n",
        "  print(l[i], end=\" \")"
      ],
      "metadata": {
        "id": "V_mF2UFIRQKz",
        "colab": {
          "base_uri": "https://localhost:8080/"
        },
        "outputId": "9389f04c-3a79-4411-cfad-93673cbf19c3"
      },
      "execution_count": 43,
      "outputs": [
        {
          "output_type": "stream",
          "name": "stdout",
          "text": [
            "ab\n",
            "ac\n",
            "ad\n",
            "ab\n",
            "ac\n",
            "af\n",
            "\n",
            "ab ac ad af "
          ]
        }
      ]
    },
    {
      "cell_type": "markdown",
      "source": [],
      "metadata": {
        "id": "A1c4NLf8SxFQ"
      }
    },
    {
      "cell_type": "code",
      "source": [],
      "metadata": {
        "id": "EJYCDf0Wir84"
      },
      "execution_count": null,
      "outputs": []
    }
  ]
}
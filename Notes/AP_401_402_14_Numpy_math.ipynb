{
  "cells": [
    {
      "cell_type": "markdown",
      "metadata": {
        "id": "view-in-github",
        "colab_type": "text"
      },
      "source": [
        "<a href=\"https://colab.research.google.com/github/uiacap/UIAC_AP_MATH_4012/blob/main/Notes/AP_401_402_14_Numpy_math.ipynb\" target=\"_parent\"><img src=\"https://colab.research.google.com/assets/colab-badge.svg\" alt=\"Open In Colab\"/></a>"
      ]
    },
    {
      "cell_type": "markdown",
      "id": "37ff1c1a",
      "metadata": {
        "direction": "rtl",
        "id": "37ff1c1a"
      },
      "source": [
        "<div dir =rtl>\n",
        "<span style=\"font-size:16px; font-family:xb zar\">\n",
        "     <strong>\n",
        "numpy\n",
        "</strong>\n",
        "    یک کتابخانه محاسباتی برای زبان برنامه نویسی پایتون است که برای عملیات عددی و علمی استفاده می شود. این کتابخانه شامل یک سری توابع و ابزارهایی است که به کاربران امکان محاسبات عددی، جبر خطی، تبدیل فوریه، تولید اعداد تصادفی، عملیات بر روی آرایه ها و ماتریس ها و دیگر موارد را می دهد. با استفاده از NumPy، کاربر می تواند به سادگی با داده های عددی بزرگ کار کند و محاسبات پیچیده را با سرعت بالا انجام دهد. این کتابخانه یکی از کتابخانه های پایتونی محبوب است و بسیاری از کتابخانه های دیگر در زمینه هایی مانند علم داده، یادگیری ماشین و بینایی ماشینی از آن بهره می برند. \n",
        "   <br>\n",
        "    برای نصب این کتابخانه از دستور زیر در محیط cmd یا powershell استفاده میشود.\n",
        "       <br>\n",
        "\n",
        " </span>\n",
        " </div>\n",
        "\n"
      ]
    },
    {
      "cell_type": "markdown",
      "id": "12fea8fb",
      "metadata": {
        "id": "12fea8fb"
      },
      "source": [
        "<code>   \n",
        "    pip install jupyter\n",
        "    pip install numpy\n",
        "</code>"
      ]
    },
    {
      "cell_type": "code",
      "execution_count": null,
      "id": "6bd1b7b3",
      "metadata": {
        "id": "6bd1b7b3"
      },
      "outputs": [],
      "source": [
        "import numpy as np"
      ]
    },
    {
      "cell_type": "code",
      "execution_count": null,
      "id": "23b98467",
      "metadata": {
        "id": "23b98467"
      },
      "outputs": [],
      "source": [
        "print(help(np))"
      ]
    },
    {
      "cell_type": "code",
      "execution_count": null,
      "id": "17873689",
      "metadata": {
        "id": "17873689",
        "outputId": "69508511-4b3b-4bb3-f8a8-c4f32ea3e294"
      },
      "outputs": [
        {
          "name": "stdout",
          "output_type": "stream",
          "text": [
            "ALLOW_THREADS\n",
            "AxisError\n",
            "BUFSIZE\n",
            "CLIP\n",
            "ComplexWarning\n",
            "DataSource\n",
            "ERR_CALL\n",
            "ERR_DEFAULT\n",
            "ERR_IGNORE\n",
            "ERR_LOG\n",
            "ERR_PRINT\n",
            "ERR_RAISE\n",
            "ERR_WARN\n",
            "FLOATING_POINT_SUPPORT\n",
            "FPE_DIVIDEBYZERO\n",
            "FPE_INVALID\n",
            "FPE_OVERFLOW\n",
            "FPE_UNDERFLOW\n",
            "False_\n",
            "Inf\n",
            "Infinity\n",
            "MAXDIMS\n",
            "MAY_SHARE_BOUNDS\n",
            "MAY_SHARE_EXACT\n",
            "ModuleDeprecationWarning\n",
            "NAN\n",
            "NINF\n",
            "NZERO\n",
            "NaN\n",
            "PINF\n",
            "PZERO\n",
            "RAISE\n",
            "RankWarning\n",
            "SHIFT_DIVIDEBYZERO\n",
            "SHIFT_INVALID\n",
            "SHIFT_OVERFLOW\n",
            "SHIFT_UNDERFLOW\n",
            "ScalarType\n",
            "Tester\n",
            "TooHardError\n",
            "True_\n",
            "UFUNC_BUFSIZE_DEFAULT\n",
            "UFUNC_PYVALS_NAME\n",
            "VisibleDeprecationWarning\n",
            "WRAP\n",
            "_CopyMode\n",
            "_NoValue\n",
            "_UFUNC_API\n",
            "__NUMPY_SETUP__\n",
            "__all__\n",
            "__builtins__\n",
            "__cached__\n",
            "__config__\n",
            "__deprecated_attrs__\n",
            "__dir__\n",
            "__doc__\n",
            "__expired_functions__\n",
            "__file__\n",
            "__future_scalars__\n",
            "__getattr__\n",
            "__git_version__\n",
            "__loader__\n",
            "__name__\n",
            "__package__\n",
            "__path__\n",
            "__spec__\n",
            "__version__\n",
            "_add_newdoc_ufunc\n",
            "_distributor_init\n",
            "_financial_names\n",
            "_get_promotion_state\n",
            "_globals\n",
            "_mat\n",
            "_no_nep50_warning\n",
            "_pyinstaller_hooks_dir\n",
            "_pytesttester\n",
            "_set_promotion_state\n",
            "_version\n",
            "abs\n",
            "absolute\n",
            "add\n",
            "add_docstring\n",
            "add_newdoc\n",
            "add_newdoc_ufunc\n",
            "all\n",
            "allclose\n",
            "alltrue\n",
            "amax\n",
            "amin\n",
            "angle\n",
            "any\n",
            "append\n",
            "apply_along_axis\n",
            "apply_over_axes\n",
            "arange\n",
            "arccos\n",
            "arccosh\n",
            "arcsin\n",
            "arcsinh\n",
            "arctan\n",
            "arctan2\n",
            "arctanh\n",
            "argmax\n",
            "argmin\n",
            "argpartition\n",
            "argsort\n",
            "argwhere\n",
            "around\n",
            "array\n",
            "array2string\n",
            "array_equal\n",
            "array_equiv\n",
            "array_repr\n",
            "array_split\n",
            "array_str\n",
            "asanyarray\n",
            "asarray\n",
            "asarray_chkfinite\n",
            "ascontiguousarray\n",
            "asfarray\n",
            "asfortranarray\n",
            "asmatrix\n",
            "atleast_1d\n",
            "atleast_2d\n",
            "atleast_3d\n",
            "average\n",
            "bartlett\n",
            "base_repr\n",
            "binary_repr\n",
            "bincount\n",
            "bitwise_and\n",
            "bitwise_not\n",
            "bitwise_or\n",
            "bitwise_xor\n",
            "blackman\n",
            "block\n",
            "bmat\n",
            "bool_\n",
            "broadcast\n",
            "broadcast_arrays\n",
            "broadcast_shapes\n",
            "broadcast_to\n",
            "busday_count\n",
            "busday_offset\n",
            "busdaycalendar\n",
            "byte\n",
            "byte_bounds\n",
            "bytes_\n",
            "c_\n",
            "can_cast\n",
            "cast\n",
            "cbrt\n",
            "cdouble\n",
            "ceil\n",
            "cfloat\n",
            "char\n",
            "character\n",
            "chararray\n",
            "choose\n",
            "clip\n",
            "clongdouble\n",
            "clongfloat\n",
            "column_stack\n",
            "common_type\n",
            "compare_chararrays\n",
            "compat\n",
            "complex128\n",
            "complex64\n",
            "complex_\n",
            "complexfloating\n",
            "compress\n",
            "concatenate\n",
            "conj\n",
            "conjugate\n",
            "convolve\n",
            "copy\n",
            "copysign\n",
            "copyto\n",
            "corrcoef\n",
            "correlate\n",
            "cos\n",
            "cosh\n",
            "count_nonzero\n",
            "cov\n",
            "cross\n",
            "csingle\n",
            "ctypeslib\n",
            "cumprod\n",
            "cumproduct\n",
            "cumsum\n",
            "datetime64\n",
            "datetime_as_string\n",
            "datetime_data\n",
            "deg2rad\n",
            "degrees\n",
            "delete\n",
            "deprecate\n",
            "deprecate_with_doc\n",
            "diag\n",
            "diag_indices\n",
            "diag_indices_from\n",
            "diagflat\n",
            "diagonal\n",
            "diff\n",
            "digitize\n",
            "disp\n",
            "divide\n",
            "divmod\n",
            "dot\n",
            "double\n",
            "dsplit\n",
            "dstack\n",
            "dtype\n",
            "e\n",
            "ediff1d\n",
            "einsum\n",
            "einsum_path\n",
            "emath\n",
            "empty\n",
            "empty_like\n",
            "equal\n",
            "errstate\n",
            "euler_gamma\n",
            "exp\n",
            "exp2\n",
            "expand_dims\n",
            "expm1\n",
            "extract\n",
            "eye\n",
            "fabs\n",
            "fastCopyAndTranspose\n",
            "fft\n",
            "fill_diagonal\n",
            "find_common_type\n",
            "finfo\n",
            "fix\n",
            "flatiter\n",
            "flatnonzero\n",
            "flexible\n",
            "flip\n",
            "fliplr\n",
            "flipud\n",
            "float16\n",
            "float32\n",
            "float64\n",
            "float_\n",
            "float_power\n",
            "floating\n",
            "floor\n",
            "floor_divide\n",
            "fmax\n",
            "fmin\n",
            "fmod\n",
            "format_float_positional\n",
            "format_float_scientific\n",
            "format_parser\n",
            "frexp\n",
            "from_dlpack\n",
            "frombuffer\n",
            "fromfile\n",
            "fromfunction\n",
            "fromiter\n",
            "frompyfunc\n",
            "fromregex\n",
            "fromstring\n",
            "full\n",
            "full_like\n",
            "gcd\n",
            "generic\n",
            "genfromtxt\n",
            "geomspace\n",
            "get_array_wrap\n",
            "get_include\n",
            "get_printoptions\n",
            "getbufsize\n",
            "geterr\n",
            "geterrcall\n",
            "geterrobj\n",
            "gradient\n",
            "greater\n",
            "greater_equal\n",
            "half\n",
            "hamming\n",
            "hanning\n",
            "heaviside\n",
            "histogram\n",
            "histogram2d\n",
            "histogram_bin_edges\n",
            "histogramdd\n",
            "hsplit\n",
            "hstack\n",
            "hypot\n",
            "i0\n",
            "identity\n",
            "iinfo\n",
            "imag\n",
            "in1d\n",
            "index_exp\n",
            "indices\n",
            "inexact\n",
            "inf\n",
            "info\n",
            "infty\n",
            "inner\n",
            "insert\n",
            "int16\n",
            "int32\n",
            "int64\n",
            "int8\n",
            "int_\n",
            "intc\n",
            "integer\n",
            "interp\n",
            "intersect1d\n",
            "intp\n",
            "invert\n",
            "is_busday\n",
            "isclose\n",
            "iscomplex\n",
            "iscomplexobj\n",
            "isfinite\n",
            "isfortran\n",
            "isin\n",
            "isinf\n",
            "isnan\n",
            "isnat\n",
            "isneginf\n",
            "isposinf\n",
            "isreal\n",
            "isrealobj\n",
            "isscalar\n",
            "issctype\n",
            "issubclass_\n",
            "issubdtype\n",
            "issubsctype\n",
            "iterable\n",
            "ix_\n",
            "kaiser\n",
            "kron\n",
            "lcm\n",
            "ldexp\n",
            "left_shift\n",
            "less\n",
            "less_equal\n",
            "lexsort\n",
            "lib\n",
            "linalg\n",
            "linspace\n",
            "little_endian\n",
            "load\n",
            "loadtxt\n",
            "log\n",
            "log10\n",
            "log1p\n",
            "log2\n",
            "logaddexp\n",
            "logaddexp2\n",
            "logical_and\n",
            "logical_not\n",
            "logical_or\n",
            "logical_xor\n",
            "logspace\n",
            "longcomplex\n",
            "longdouble\n",
            "longfloat\n",
            "longlong\n",
            "lookfor\n",
            "ma\n",
            "mask_indices\n",
            "mat\n",
            "math\n",
            "matmul\n",
            "matrix\n",
            "max\n",
            "maximum\n",
            "maximum_sctype\n",
            "may_share_memory\n",
            "mean\n",
            "median\n",
            "memmap\n",
            "meshgrid\n",
            "mgrid\n",
            "min\n",
            "min_scalar_type\n",
            "minimum\n",
            "mintypecode\n",
            "mod\n",
            "modf\n",
            "moveaxis\n",
            "msort\n",
            "multiply\n",
            "nan\n",
            "nan_to_num\n",
            "nanargmax\n",
            "nanargmin\n",
            "nancumprod\n",
            "nancumsum\n",
            "nanmax\n",
            "nanmean\n",
            "nanmedian\n",
            "nanmin\n",
            "nanpercentile\n",
            "nanprod\n",
            "nanquantile\n",
            "nanstd\n",
            "nansum\n",
            "nanvar\n",
            "nbytes\n",
            "ndarray\n",
            "ndenumerate\n",
            "ndim\n",
            "ndindex\n",
            "nditer\n",
            "negative\n",
            "nested_iters\n",
            "newaxis\n",
            "nextafter\n",
            "nonzero\n",
            "not_equal\n",
            "numarray\n",
            "number\n",
            "obj2sctype\n",
            "object_\n",
            "ogrid\n",
            "oldnumeric\n",
            "ones\n",
            "ones_like\n",
            "outer\n",
            "packbits\n",
            "pad\n",
            "partition\n",
            "percentile\n",
            "pi\n",
            "piecewise\n",
            "place\n",
            "poly\n",
            "poly1d\n",
            "polyadd\n",
            "polyder\n",
            "polydiv\n",
            "polyfit\n",
            "polyint\n",
            "polymul\n",
            "polynomial\n",
            "polysub\n",
            "polyval\n",
            "positive\n",
            "power\n",
            "printoptions\n",
            "prod\n",
            "product\n",
            "promote_types\n",
            "ptp\n",
            "put\n",
            "put_along_axis\n",
            "putmask\n",
            "quantile\n",
            "r_\n",
            "rad2deg\n",
            "radians\n",
            "random\n",
            "ravel\n",
            "ravel_multi_index\n",
            "real\n",
            "real_if_close\n",
            "rec\n",
            "recarray\n",
            "recfromcsv\n",
            "recfromtxt\n",
            "reciprocal\n",
            "record\n",
            "remainder\n",
            "repeat\n",
            "require\n",
            "reshape\n",
            "resize\n",
            "result_type\n",
            "right_shift\n",
            "rint\n",
            "roll\n",
            "rollaxis\n",
            "roots\n",
            "rot90\n",
            "round\n",
            "round_\n",
            "row_stack\n",
            "s_\n",
            "safe_eval\n",
            "save\n",
            "savetxt\n",
            "savez\n",
            "savez_compressed\n",
            "sctype2char\n",
            "sctypeDict\n",
            "sctypes\n",
            "searchsorted\n",
            "select\n",
            "set_numeric_ops\n",
            "set_printoptions\n",
            "set_string_function\n",
            "setbufsize\n",
            "setdiff1d\n",
            "seterr\n",
            "seterrcall\n",
            "seterrobj\n",
            "setxor1d\n",
            "shape\n",
            "shares_memory\n",
            "short\n",
            "show_config\n",
            "show_runtime\n",
            "sign\n",
            "signbit\n",
            "signedinteger\n",
            "sin\n",
            "sinc\n",
            "single\n",
            "singlecomplex\n",
            "sinh\n",
            "size\n",
            "sometrue\n",
            "sort\n",
            "sort_complex\n",
            "source\n",
            "spacing\n",
            "split\n",
            "sqrt\n",
            "square\n",
            "squeeze\n",
            "stack\n",
            "std\n",
            "str_\n",
            "string_\n",
            "subtract\n",
            "sum\n",
            "swapaxes\n",
            "take\n",
            "take_along_axis\n",
            "tan\n",
            "tanh\n",
            "tensordot\n",
            "test\n",
            "testing\n",
            "tile\n",
            "timedelta64\n",
            "trace\n",
            "tracemalloc_domain\n",
            "transpose\n",
            "trapz\n",
            "tri\n",
            "tril\n",
            "tril_indices\n",
            "tril_indices_from\n",
            "trim_zeros\n",
            "triu\n",
            "triu_indices\n",
            "triu_indices_from\n",
            "true_divide\n",
            "trunc\n",
            "typecodes\n",
            "typename\n",
            "ubyte\n",
            "ufunc\n",
            "uint\n",
            "uint16\n",
            "uint32\n",
            "uint64\n",
            "uint8\n",
            "uintc\n",
            "uintp\n",
            "ulonglong\n",
            "unicode_\n",
            "union1d\n",
            "unique\n",
            "unpackbits\n",
            "unravel_index\n",
            "unsignedinteger\n",
            "unwrap\n",
            "use_hugepage\n",
            "ushort\n",
            "vander\n",
            "var\n",
            "vdot\n",
            "vectorize\n",
            "version\n",
            "void\n",
            "vsplit\n",
            "vstack\n",
            "where\n",
            "who\n",
            "zeros\n",
            "zeros_like\n"
          ]
        }
      ],
      "source": [
        "print(*dir(np), sep=\"\\n\")"
      ]
    },
    {
      "cell_type": "markdown",
      "id": "9a252351",
      "metadata": {
        "direction": "rtl",
        "id": "9a252351"
      },
      "source": [
        "<div dir =rtl>\n",
        "# انواع داده ها \n",
        "</div>"
      ]
    },
    {
      "cell_type": "markdown",
      "id": "2e15c559",
      "metadata": {
        "id": "2e15c559"
      },
      "source": [
        "## vector"
      ]
    },
    {
      "cell_type": "code",
      "execution_count": null,
      "id": "2a04ecb3",
      "metadata": {
        "id": "2a04ecb3",
        "outputId": "3b0168da-1b42-48f7-822a-0686ebb20a41"
      },
      "outputs": [
        {
          "name": "stdout",
          "output_type": "stream",
          "text": [
            "[1, 2, 3, 4, 5, 6]\n"
          ]
        }
      ],
      "source": [
        "list_vector = [1,2,3,4,5,6]\n",
        "print(list_vector)"
      ]
    },
    {
      "cell_type": "code",
      "execution_count": null,
      "id": "97b06d3c",
      "metadata": {
        "id": "97b06d3c",
        "outputId": "dc51d70d-8606-4ebf-c7d4-0d93217d08cc"
      },
      "outputs": [
        {
          "name": "stdout",
          "output_type": "stream",
          "text": [
            "[1 2 3 4 5 6]\n"
          ]
        }
      ],
      "source": [
        "np_vector = np.array(list_vector)\n",
        "print(np_vector)"
      ]
    },
    {
      "cell_type": "markdown",
      "id": "a51b17c2",
      "metadata": {
        "id": "a51b17c2"
      },
      "source": [
        "## matrix"
      ]
    },
    {
      "cell_type": "code",
      "execution_count": null,
      "id": "c76ff64f",
      "metadata": {
        "id": "c76ff64f",
        "outputId": "d7f758fb-21a3-48b5-9a03-c958019f3689"
      },
      "outputs": [
        {
          "name": "stdout",
          "output_type": "stream",
          "text": [
            "[[1, 2, 3], [4, 5, 6], [7, 8, 9]]\n"
          ]
        }
      ],
      "source": [
        "list_mtx = [[1,2,3],[4,5,6],[7,8,9]]\n",
        "print(list_mtx)"
      ]
    },
    {
      "cell_type": "code",
      "execution_count": null,
      "id": "47e755a6",
      "metadata": {
        "id": "47e755a6",
        "outputId": "cdfefcf3-beaa-4940-f1c2-cfb9ca7d4d44"
      },
      "outputs": [
        {
          "name": "stdout",
          "output_type": "stream",
          "text": [
            "[[1 2 3]\n",
            " [4 5 6]\n",
            " [7 8 9]]\n"
          ]
        }
      ],
      "source": [
        "np_mtx = np.matrix(list_mtx)\n",
        "print(np_mtx)"
      ]
    },
    {
      "cell_type": "markdown",
      "id": "429b6cf9",
      "metadata": {
        "id": "429b6cf9"
      },
      "source": [
        "## array"
      ]
    },
    {
      "cell_type": "code",
      "execution_count": null,
      "id": "1be0f8ca",
      "metadata": {
        "id": "1be0f8ca",
        "outputId": "82d4e6f5-fd12-4071-cb55-867baa1ea9ef"
      },
      "outputs": [
        {
          "name": "stdout",
          "output_type": "stream",
          "text": [
            "[1, 2, 3, 4, 5, 6]\n"
          ]
        }
      ],
      "source": [
        "np_array_vec = np.array(list_vector)\n",
        "print(list_vector)"
      ]
    },
    {
      "cell_type": "code",
      "execution_count": null,
      "id": "044dfb09",
      "metadata": {
        "id": "044dfb09",
        "outputId": "2318febf-d27c-4ce2-a543-f88f3193cbba"
      },
      "outputs": [
        {
          "name": "stdout",
          "output_type": "stream",
          "text": [
            "[[1 2 3]\n",
            " [4 5 6]\n",
            " [7 8 9]]\n"
          ]
        }
      ],
      "source": [
        "np_array_mtx = np.array(list_mtx)\n",
        "print(np_array_mtx)"
      ]
    },
    {
      "cell_type": "markdown",
      "id": "07cacb0d",
      "metadata": {
        "direction": "rtl",
        "id": "07cacb0d"
      },
      "source": [
        "<div dir=rtl>\n",
        "<span style=\"font-size:16px; font-family:xb zar\">\n",
        "     <strong>\n",
        "numpy.matrix و numpy.array\n",
        "</strong>\n",
        " هر دو از این نوع داده ها برای کار با آرایه های چند بعدی به کار می‌روند، اما تفاوت‌هایی با یکدیگر دارند.\n",
        "<br>\n",
        "     <strong>\n",
        " numpy.array\n",
        "</strong>\n",
        "در بیشتر موارد برای کار با داده های عددی استفاده می شود.\n",
        "<br>\n",
        "     <strong>\n",
        "np.matrix \n",
        "</strong>\n",
        "  برای کار با ماتریس ها و عملیات‌های جبری ماتریسی مانند ضرب ماتریسی استفاده میشود. \n",
        "</div>\n"
      ]
    },
    {
      "cell_type": "markdown",
      "id": "df178e1c",
      "metadata": {
        "id": "df178e1c"
      },
      "source": [
        "## انتخاب مقادیر"
      ]
    },
    {
      "cell_type": "code",
      "execution_count": null,
      "id": "efe42d26",
      "metadata": {
        "id": "efe42d26",
        "outputId": "25b8377b-5455-4958-bf78-d217a7b8b235"
      },
      "outputs": [
        {
          "ename": "NameError",
          "evalue": "name 'arr_1' is not defined",
          "output_type": "error",
          "traceback": [
            "\u001b[1;31m---------------------------------------------------------------------------\u001b[0m",
            "\u001b[1;31mNameError\u001b[0m                                 Traceback (most recent call last)",
            "Cell \u001b[1;32mIn[10], line 1\u001b[0m\n\u001b[1;32m----> 1\u001b[0m \u001b[43marr_1\u001b[49m[\u001b[38;5;241m1\u001b[39m,\u001b[38;5;241m2\u001b[39m]\n",
            "\u001b[1;31mNameError\u001b[0m: name 'arr_1' is not defined"
          ]
        }
      ],
      "source": [
        "arr_1[1,2]"
      ]
    },
    {
      "cell_type": "code",
      "execution_count": null,
      "id": "59eac05f",
      "metadata": {
        "id": "59eac05f"
      },
      "outputs": [],
      "source": [
        "arr_1[1,:]"
      ]
    },
    {
      "cell_type": "code",
      "execution_count": null,
      "id": "677e6a3a",
      "metadata": {
        "id": "677e6a3a"
      },
      "outputs": [],
      "source": [
        "arr_1[:,1]"
      ]
    },
    {
      "cell_type": "code",
      "execution_count": null,
      "id": "b523672b",
      "metadata": {
        "id": "b523672b"
      },
      "outputs": [],
      "source": [
        "arr_1[1,1:2]"
      ]
    },
    {
      "cell_type": "code",
      "execution_count": null,
      "id": "0f225773",
      "metadata": {
        "id": "0f225773"
      },
      "outputs": [],
      "source": [
        "arr_1[1,::2]"
      ]
    },
    {
      "cell_type": "code",
      "execution_count": null,
      "id": "4f067add",
      "metadata": {
        "id": "4f067add"
      },
      "outputs": [],
      "source": [
        "arr_2>6"
      ]
    },
    {
      "cell_type": "code",
      "execution_count": null,
      "id": "fd0f9c97",
      "metadata": {
        "id": "fd0f9c97"
      },
      "outputs": [],
      "source": [
        "arr_2[arr_2>6]"
      ]
    },
    {
      "cell_type": "markdown",
      "id": "11a89b12",
      "metadata": {
        "id": "11a89b12"
      },
      "source": [
        "## size, shape, reshape"
      ]
    },
    {
      "cell_type": "code",
      "execution_count": null,
      "id": "523b23f9",
      "metadata": {
        "id": "523b23f9"
      },
      "outputs": [],
      "source": [
        "np_array_mtx.size"
      ]
    },
    {
      "cell_type": "code",
      "execution_count": null,
      "id": "dff17f25",
      "metadata": {
        "id": "dff17f25"
      },
      "outputs": [],
      "source": [
        "np_array_mtx.shape"
      ]
    },
    {
      "cell_type": "code",
      "execution_count": null,
      "id": "5a7e0680",
      "metadata": {
        "id": "5a7e0680"
      },
      "outputs": [],
      "source": [
        "np_array_mtx.reshape((1,-1))"
      ]
    },
    {
      "cell_type": "markdown",
      "id": "c28b904d",
      "metadata": {
        "id": "c28b904d"
      },
      "source": [
        "## dtype\n"
      ]
    },
    {
      "cell_type": "markdown",
      "id": "73d179ea",
      "metadata": {
        "direction": "rtl",
        "id": "73d179ea"
      },
      "source": [
        "<div dir =rtl>\n",
        "<span style=\"font-size:16px; font-family:xb zar\">\n",
        "    یک ارایه میتواند از اعداد صحیح یا اعشاری یا مقادیر بولین تشکیل شده باشند از دستور\n",
        "     <strong>\n",
        "dtype\n",
        "</strong>\n",
        "برای نمایش نوع داده ای ارایه ها استفاده میشود. \n",
        " </span>\n",
        "</div>"
      ]
    },
    {
      "cell_type": "markdown",
      "id": "3027fe15",
      "metadata": {
        "id": "3027fe15"
      },
      "source": [
        "### intiger"
      ]
    },
    {
      "cell_type": "code",
      "execution_count": null,
      "id": "83d64741",
      "metadata": {
        "id": "83d64741",
        "outputId": "9f806d3b-0c7a-46af-fe18-f3dd56d6c760"
      },
      "outputs": [
        {
          "name": "stdout",
          "output_type": "stream",
          "text": [
            "int32\n"
          ]
        }
      ],
      "source": [
        "arr_int = np.array([1, 2, 3], dtype=np.int32)\n",
        "print(arr_int.dtype)"
      ]
    },
    {
      "cell_type": "markdown",
      "id": "abc8bafe",
      "metadata": {
        "id": "abc8bafe"
      },
      "source": [
        "### float"
      ]
    },
    {
      "cell_type": "code",
      "execution_count": null,
      "id": "3ce6fde2",
      "metadata": {
        "id": "3ce6fde2",
        "outputId": "697a82b2-08e6-4b7b-e68e-00f35fd09b22"
      },
      "outputs": [
        {
          "name": "stdout",
          "output_type": "stream",
          "text": [
            "float32\n"
          ]
        }
      ],
      "source": [
        "arr_float = np.array([1.0, 2.0, 3.0], dtype=np.float32)\n",
        "print(arr_float.dtype)"
      ]
    },
    {
      "cell_type": "markdown",
      "id": "78b6cdc0",
      "metadata": {
        "id": "78b6cdc0"
      },
      "source": [
        "### boolean"
      ]
    },
    {
      "cell_type": "code",
      "execution_count": null,
      "id": "9492ca96",
      "metadata": {
        "id": "9492ca96",
        "outputId": "83490192-5409-4064-f5cf-494bff4fe644"
      },
      "outputs": [
        {
          "name": "stdout",
          "output_type": "stream",
          "text": [
            "bool\n",
            "bool\n"
          ]
        }
      ],
      "source": [
        "arr_bool = np.array([True, False, True])\n",
        "mat_bool = np.array([[True, False], [False, True]])\n",
        "\n",
        "print(arr_bool.dtype)\n",
        "print(mat_bool.dtype)"
      ]
    },
    {
      "cell_type": "markdown",
      "id": "e625c791",
      "metadata": {
        "id": "e625c791"
      },
      "source": [
        "### تغیر نوع داده ای آرایه ها "
      ]
    },
    {
      "cell_type": "code",
      "execution_count": null,
      "id": "103679f8",
      "metadata": {
        "id": "103679f8",
        "outputId": "cb2b7d54-6673-4049-a364-0ed7c535fdca"
      },
      "outputs": [
        {
          "data": {
            "text/plain": [
              "array([[1., 0.],\n",
              "       [0., 1.]])"
            ]
          },
          "execution_count": 14,
          "metadata": {},
          "output_type": "execute_result"
        }
      ],
      "source": [
        "mat_bool.astype(\"float\")"
      ]
    },
    {
      "cell_type": "code",
      "execution_count": null,
      "id": "36e822f8",
      "metadata": {
        "id": "36e822f8",
        "outputId": "24eb4fa2-c6ba-44db-cca8-d0a7705a516d"
      },
      "outputs": [
        {
          "data": {
            "text/plain": [
              "array([1, 2, 3])"
            ]
          },
          "execution_count": 15,
          "metadata": {},
          "output_type": "execute_result"
        }
      ],
      "source": [
        "arr_float.astype(\"int\")"
      ]
    },
    {
      "cell_type": "markdown",
      "id": "5ff625f3",
      "metadata": {
        "id": "5ff625f3"
      },
      "source": [
        "# عملیات ریاضی"
      ]
    },
    {
      "cell_type": "code",
      "execution_count": null,
      "id": "cd715c11",
      "metadata": {
        "id": "cd715c11",
        "outputId": "4beebc58-2559-4cee-d1c5-716de59e05d7"
      },
      "outputs": [
        {
          "name": "stdout",
          "output_type": "stream",
          "text": [
            "[[1. 2. 3.]\n",
            " [4. 5. 6.]\n",
            " [7. 8. 9.]]\n"
          ]
        }
      ],
      "source": [
        "arr_1 = np.array([[1,2,3],[4,5,6],[7,8,9]], dtype=\"float\")\n",
        "print(arr_1)"
      ]
    },
    {
      "cell_type": "code",
      "execution_count": null,
      "id": "93d5b05e",
      "metadata": {
        "id": "93d5b05e",
        "outputId": "ada009e4-16ff-4150-ec57-dfcfff01ea5e"
      },
      "outputs": [
        {
          "name": "stdout",
          "output_type": "stream",
          "text": [
            "[[ 5.6  0.  15.5]\n",
            " [ 4.   5.   6. ]\n",
            " [ 7.6  9.5 11.4]]\n"
          ]
        }
      ],
      "source": [
        "arr_2 = np.array([[5.6,0,15.5],[4,5,6],[7.6,  9.5, 11.4]], dtype=\"float\")\n",
        "print(arr_2)"
      ]
    },
    {
      "cell_type": "markdown",
      "id": "d7592e84",
      "metadata": {
        "id": "d7592e84"
      },
      "source": [
        "## جمع"
      ]
    },
    {
      "cell_type": "code",
      "execution_count": null,
      "id": "9a559219",
      "metadata": {
        "id": "9a559219",
        "outputId": "9c199a69-b3ce-4098-d630-65507a0605a5"
      },
      "outputs": [
        {
          "data": {
            "text/plain": [
              "array([[ 6.,  7.,  8.],\n",
              "       [ 9., 10., 11.],\n",
              "       [12., 13., 14.]])"
            ]
          },
          "execution_count": 18,
          "metadata": {},
          "output_type": "execute_result"
        }
      ],
      "source": [
        "arr_1 + 5"
      ]
    },
    {
      "cell_type": "code",
      "execution_count": null,
      "id": "19c60ab4",
      "metadata": {
        "id": "19c60ab4",
        "outputId": "3d38fbd2-df96-43e1-9824-77ee0383cf3f"
      },
      "outputs": [
        {
          "data": {
            "text/plain": [
              "array([[ 2.,  4.,  6.],\n",
              "       [ 5.,  7.,  9.],\n",
              "       [ 8., 10., 12.]])"
            ]
          },
          "execution_count": 19,
          "metadata": {},
          "output_type": "execute_result"
        }
      ],
      "source": [
        "arr_1 + np.array([1,2,3])"
      ]
    },
    {
      "cell_type": "code",
      "execution_count": null,
      "id": "19834c99",
      "metadata": {
        "id": "19834c99",
        "outputId": "46f0f999-adfd-440e-d716-1f63df52b521"
      },
      "outputs": [
        {
          "data": {
            "text/plain": [
              "array([[ 2.,  3.,  4.],\n",
              "       [ 6.,  7.,  8.],\n",
              "       [10., 11., 12.]])"
            ]
          },
          "execution_count": 20,
          "metadata": {},
          "output_type": "execute_result"
        }
      ],
      "source": [
        "arr_1 + np.array([[1],[2],[3]])"
      ]
    },
    {
      "cell_type": "code",
      "execution_count": null,
      "id": "6982c147",
      "metadata": {
        "id": "6982c147",
        "outputId": "0f2fbbeb-2f37-4260-d0a6-d306de6a8040"
      },
      "outputs": [
        {
          "data": {
            "text/plain": [
              "array([[ 6.6,  2. , 18.5],\n",
              "       [ 8. , 10. , 12. ],\n",
              "       [14.6, 17.5, 20.4]])"
            ]
          },
          "execution_count": 21,
          "metadata": {},
          "output_type": "execute_result"
        }
      ],
      "source": [
        "arr_1 + arr_2"
      ]
    },
    {
      "cell_type": "markdown",
      "id": "3b226667",
      "metadata": {
        "id": "3b226667"
      },
      "source": [
        "## تفریق"
      ]
    },
    {
      "cell_type": "code",
      "execution_count": null,
      "id": "c09d5c9c",
      "metadata": {
        "id": "c09d5c9c",
        "outputId": "15acb998-3937-4240-eaff-58b573df84ee"
      },
      "outputs": [
        {
          "data": {
            "text/plain": [
              "array([[-4., -3., -2.],\n",
              "       [-1.,  0.,  1.],\n",
              "       [ 2.,  3.,  4.]])"
            ]
          },
          "execution_count": 22,
          "metadata": {},
          "output_type": "execute_result"
        }
      ],
      "source": [
        "arr_1 - 5"
      ]
    },
    {
      "cell_type": "code",
      "execution_count": null,
      "id": "129610f4",
      "metadata": {
        "id": "129610f4",
        "outputId": "b481cc1a-9474-4edb-e712-13c82b9aac14"
      },
      "outputs": [
        {
          "data": {
            "text/plain": [
              "array([[0., 0., 0.],\n",
              "       [3., 3., 3.],\n",
              "       [6., 6., 6.]])"
            ]
          },
          "execution_count": 23,
          "metadata": {},
          "output_type": "execute_result"
        }
      ],
      "source": [
        "arr_1 - np.array([1,2,3])"
      ]
    },
    {
      "cell_type": "code",
      "execution_count": null,
      "id": "6381d87a",
      "metadata": {
        "id": "6381d87a",
        "outputId": "4b222bde-69f7-4b15-df70-f07b72765a04"
      },
      "outputs": [
        {
          "data": {
            "text/plain": [
              "array([[0., 1., 2.],\n",
              "       [2., 3., 4.],\n",
              "       [4., 5., 6.]])"
            ]
          },
          "execution_count": 24,
          "metadata": {},
          "output_type": "execute_result"
        }
      ],
      "source": [
        "arr_1 - np.array([[1],[2],[3]])"
      ]
    },
    {
      "cell_type": "code",
      "execution_count": null,
      "id": "1e13291a",
      "metadata": {
        "id": "1e13291a",
        "outputId": "40ee5400-e40a-458b-ce42-799f40bc1cf0"
      },
      "outputs": [
        {
          "data": {
            "text/plain": [
              "array([[ -4.6,   2. , -12.5],\n",
              "       [  0. ,   0. ,   0. ],\n",
              "       [ -0.6,  -1.5,  -2.4]])"
            ]
          },
          "execution_count": 25,
          "metadata": {},
          "output_type": "execute_result"
        }
      ],
      "source": [
        "arr_1 - arr_2"
      ]
    },
    {
      "cell_type": "markdown",
      "id": "67f0f7ce",
      "metadata": {
        "id": "67f0f7ce"
      },
      "source": [
        "## ضرب"
      ]
    },
    {
      "cell_type": "code",
      "execution_count": null,
      "id": "7acd6141",
      "metadata": {
        "id": "7acd6141",
        "outputId": "ddaa0989-a667-434c-d415-57bb5754e1d7"
      },
      "outputs": [
        {
          "data": {
            "text/plain": [
              "array([[ 5., 10., 15.],\n",
              "       [20., 25., 30.],\n",
              "       [35., 40., 45.]])"
            ]
          },
          "execution_count": 26,
          "metadata": {},
          "output_type": "execute_result"
        }
      ],
      "source": [
        "arr_1 * 5"
      ]
    },
    {
      "cell_type": "code",
      "execution_count": null,
      "id": "bb65e5d0",
      "metadata": {
        "id": "bb65e5d0",
        "outputId": "aca72b07-ed56-42c9-c774-b2c27da1c2f7"
      },
      "outputs": [
        {
          "data": {
            "text/plain": [
              "array([[ 1.,  4.,  9.],\n",
              "       [ 4., 10., 18.],\n",
              "       [ 7., 16., 27.]])"
            ]
          },
          "execution_count": 27,
          "metadata": {},
          "output_type": "execute_result"
        }
      ],
      "source": [
        "arr_1 * np.array([1,2,3])"
      ]
    },
    {
      "cell_type": "code",
      "execution_count": null,
      "id": "17a5e6a5",
      "metadata": {
        "id": "17a5e6a5",
        "outputId": "0991d327-5115-4178-d106-42650560b940"
      },
      "outputs": [
        {
          "data": {
            "text/plain": [
              "array([[ 1.,  2.,  3.],\n",
              "       [ 8., 10., 12.],\n",
              "       [21., 24., 27.]])"
            ]
          },
          "execution_count": 28,
          "metadata": {},
          "output_type": "execute_result"
        }
      ],
      "source": [
        "arr_1 * np.array([[1],[2],[3]])"
      ]
    },
    {
      "cell_type": "code",
      "execution_count": null,
      "id": "0352d8bd",
      "metadata": {
        "id": "0352d8bd",
        "outputId": "aa530beb-5d23-489d-e621-9c4d3565a445"
      },
      "outputs": [
        {
          "data": {
            "text/plain": [
              "array([[  5.6,   0. ,  46.5],\n",
              "       [ 16. ,  25. ,  36. ],\n",
              "       [ 53.2,  76. , 102.6]])"
            ]
          },
          "execution_count": 29,
          "metadata": {},
          "output_type": "execute_result"
        }
      ],
      "source": [
        "arr_1 * arr_2"
      ]
    },
    {
      "cell_type": "code",
      "execution_count": null,
      "id": "91b0376f",
      "metadata": {
        "id": "91b0376f",
        "outputId": "0fb7659f-81e1-4a30-babb-96f5df316194"
      },
      "outputs": [
        {
          "data": {
            "text/plain": [
              "array([[ 36.4,  38.5,  61.7],\n",
              "       [ 88. ,  82. , 160.4],\n",
              "       [139.6, 125.5, 259.1]])"
            ]
          },
          "execution_count": 30,
          "metadata": {},
          "output_type": "execute_result"
        }
      ],
      "source": [
        "arr_1 @ arr_2 # arr_1.dot(arr_2)"
      ]
    },
    {
      "cell_type": "markdown",
      "id": "59308949",
      "metadata": {
        "direction": "rtl",
        "id": "59308949"
      },
      "source": [
        "<div dir=rtl>\n",
        "<span style=\"font-size:16px; font-family:xb zar\">\n",
        "     <strong>\n",
        "نکته:\n",
        "</strong>\n",
        " در ضرب دو np.array استفاده از * عناصر در هم ضرب میشوند ولی در np.matrix دو ماتریس در هم ضرب میشوند.\n",
        "</span>\n",
        "</div>"
      ]
    },
    {
      "cell_type": "markdown",
      "id": "a6752bb8",
      "metadata": {
        "id": "a6752bb8"
      },
      "source": [
        "## تقسیم"
      ]
    },
    {
      "cell_type": "code",
      "execution_count": null,
      "id": "f197dd42",
      "metadata": {
        "id": "f197dd42",
        "outputId": "d22a0150-207c-4c2e-a550-83a58671b1c0"
      },
      "outputs": [
        {
          "data": {
            "text/plain": [
              "array([[0.2, 0.4, 0.6],\n",
              "       [0.8, 1. , 1.2],\n",
              "       [1.4, 1.6, 1.8]])"
            ]
          },
          "execution_count": 31,
          "metadata": {},
          "output_type": "execute_result"
        }
      ],
      "source": [
        "arr_1 / 5"
      ]
    },
    {
      "cell_type": "code",
      "execution_count": null,
      "id": "2670a8c0",
      "metadata": {
        "id": "2670a8c0",
        "outputId": "f966f038-6d4b-4a0a-f16e-f31aa7bbb1cb"
      },
      "outputs": [
        {
          "data": {
            "text/plain": [
              "array([[1. , 1. , 1. ],\n",
              "       [4. , 2.5, 2. ],\n",
              "       [7. , 4. , 3. ]])"
            ]
          },
          "execution_count": 32,
          "metadata": {},
          "output_type": "execute_result"
        }
      ],
      "source": [
        "arr_1 / np.array([1,2,3])"
      ]
    },
    {
      "cell_type": "code",
      "execution_count": null,
      "id": "fcd63108",
      "metadata": {
        "id": "fcd63108",
        "outputId": "fd8e0df8-ae3e-4a74-847c-4da9e1711553"
      },
      "outputs": [
        {
          "data": {
            "text/plain": [
              "array([[1.        , 2.        , 3.        ],\n",
              "       [2.        , 2.5       , 3.        ],\n",
              "       [2.33333333, 2.66666667, 3.        ]])"
            ]
          },
          "execution_count": 33,
          "metadata": {},
          "output_type": "execute_result"
        }
      ],
      "source": [
        "arr_1 / np.array([[1],[2],[3]])"
      ]
    },
    {
      "cell_type": "code",
      "execution_count": null,
      "id": "70a9013b",
      "metadata": {
        "id": "70a9013b"
      },
      "outputs": [],
      "source": [
        "arr_1 / arr_2"
      ]
    },
    {
      "cell_type": "markdown",
      "id": "0c555d91",
      "metadata": {
        "id": "0c555d91"
      },
      "source": [
        "## ترانهاده"
      ]
    },
    {
      "cell_type": "code",
      "execution_count": null,
      "id": "f0cba6c5",
      "metadata": {
        "id": "f0cba6c5",
        "outputId": "ffa78edb-46bc-4ca1-dffc-3c823fb77d10"
      },
      "outputs": [
        {
          "data": {
            "text/plain": [
              "array([[1., 4., 7.],\n",
              "       [2., 5., 8.],\n",
              "       [3., 6., 9.]])"
            ]
          },
          "execution_count": 35,
          "metadata": {},
          "output_type": "execute_result"
        }
      ],
      "source": [
        "arr_1.transpose() # arr_1.T"
      ]
    },
    {
      "cell_type": "code",
      "execution_count": null,
      "id": "9da3da0c",
      "metadata": {
        "id": "9da3da0c",
        "outputId": "9d5e1f94-343e-4348-b73e-13654a4d91a8"
      },
      "outputs": [
        {
          "data": {
            "text/plain": [
              "array([[1., 4., 7.],\n",
              "       [2., 5., 8.],\n",
              "       [3., 6., 9.]])"
            ]
          },
          "execution_count": 36,
          "metadata": {},
          "output_type": "execute_result"
        }
      ],
      "source": [
        "arr_1.transpose()"
      ]
    },
    {
      "cell_type": "markdown",
      "id": "10958352",
      "metadata": {
        "id": "10958352"
      },
      "source": [
        "# آرایه های خاص"
      ]
    },
    {
      "cell_type": "code",
      "execution_count": null,
      "id": "cb24572d",
      "metadata": {
        "id": "cb24572d",
        "outputId": "f243cf15-a7c7-4f49-f4ec-f235711fba0f"
      },
      "outputs": [
        {
          "data": {
            "text/plain": [
              "array([ 0,  1,  2,  3,  4,  5,  6,  7,  8,  9, 10, 11, 12, 13, 14, 15, 16,\n",
              "       17, 18, 19, 20, 21, 22, 23, 24, 25, 26, 27, 28, 29, 30, 31, 32, 33,\n",
              "       34, 35, 36, 37, 38, 39, 40, 41, 42, 43, 44, 45, 46, 47, 48, 49, 50,\n",
              "       51, 52, 53, 54, 55, 56, 57, 58, 59])"
            ]
          },
          "execution_count": 37,
          "metadata": {},
          "output_type": "execute_result"
        }
      ],
      "source": [
        "np.arange(60)"
      ]
    },
    {
      "cell_type": "code",
      "execution_count": null,
      "id": "fff7e360",
      "metadata": {
        "scrolled": true,
        "id": "fff7e360",
        "outputId": "4a61ba4c-b52b-4106-ff5b-0d9eb17c0b8c"
      },
      "outputs": [
        {
          "data": {
            "text/plain": [
              "array([ 1.        ,  1.64285714,  2.28571429,  2.92857143,  3.57142857,\n",
              "        4.21428571,  4.85714286,  5.5       ,  6.14285714,  6.78571429,\n",
              "        7.42857143,  8.07142857,  8.71428571,  9.35714286, 10.        ])"
            ]
          },
          "execution_count": 38,
          "metadata": {},
          "output_type": "execute_result"
        }
      ],
      "source": [
        "np.linspace(1,10,15)"
      ]
    },
    {
      "cell_type": "markdown",
      "id": "61a16cda",
      "metadata": {
        "id": "61a16cda"
      },
      "source": [
        "## ماتریس 0"
      ]
    },
    {
      "cell_type": "code",
      "execution_count": null,
      "id": "9a7e417c",
      "metadata": {
        "id": "9a7e417c",
        "outputId": "8962baa5-b5e3-42e5-da3d-ac393e651be8"
      },
      "outputs": [
        {
          "data": {
            "text/plain": [
              "array([[0., 0., 0., 0., 0.],\n",
              "       [0., 0., 0., 0., 0.],\n",
              "       [0., 0., 0., 0., 0.],\n",
              "       [0., 0., 0., 0., 0.]])"
            ]
          },
          "execution_count": 39,
          "metadata": {},
          "output_type": "execute_result"
        }
      ],
      "source": [
        "np.zeros((4,5))"
      ]
    },
    {
      "cell_type": "markdown",
      "id": "168b5a93",
      "metadata": {
        "id": "168b5a93"
      },
      "source": [
        "## ماتریس 1"
      ]
    },
    {
      "cell_type": "code",
      "execution_count": null,
      "id": "27170530",
      "metadata": {
        "id": "27170530",
        "outputId": "30b5fd48-e9ab-47e0-86bd-89f5d73ea96a"
      },
      "outputs": [
        {
          "data": {
            "text/plain": [
              "array([[1., 1.],\n",
              "       [1., 1.],\n",
              "       [1., 1.],\n",
              "       [1., 1.],\n",
              "       [1., 1.],\n",
              "       [1., 1.]])"
            ]
          },
          "execution_count": 40,
          "metadata": {},
          "output_type": "execute_result"
        }
      ],
      "source": [
        "np.ones((6,2))"
      ]
    },
    {
      "cell_type": "code",
      "execution_count": null,
      "id": "fe0a8722",
      "metadata": {
        "id": "fe0a8722",
        "outputId": "f90f608d-8a56-43e2-b437-4ac17e3b8af2"
      },
      "outputs": [
        {
          "data": {
            "text/plain": [
              "array([[4, 4, 4, 4, 4],\n",
              "       [4, 4, 4, 4, 4],\n",
              "       [4, 4, 4, 4, 4],\n",
              "       [4, 4, 4, 4, 4]])"
            ]
          },
          "execution_count": 41,
          "metadata": {},
          "output_type": "execute_result"
        }
      ],
      "source": [
        "np.full((4,5),4)"
      ]
    },
    {
      "cell_type": "markdown",
      "id": "96824df4",
      "metadata": {
        "id": "96824df4"
      },
      "source": [
        "## ماتریس همانی"
      ]
    },
    {
      "cell_type": "code",
      "execution_count": null,
      "id": "da148031",
      "metadata": {
        "id": "da148031",
        "outputId": "1d00f618-e0f9-4f23-9d32-8f15d0144318"
      },
      "outputs": [
        {
          "data": {
            "text/plain": [
              "array([[1., 0., 0.],\n",
              "       [0., 1., 0.],\n",
              "       [0., 0., 1.],\n",
              "       [0., 0., 0.]])"
            ]
          },
          "execution_count": 42,
          "metadata": {},
          "output_type": "execute_result"
        }
      ],
      "source": [
        "np.eye(4,3) "
      ]
    },
    {
      "cell_type": "code",
      "execution_count": null,
      "id": "7b7b3253",
      "metadata": {
        "id": "7b7b3253",
        "outputId": "10f5159c-fefb-4392-cb64-b63473e856b2"
      },
      "outputs": [
        {
          "data": {
            "text/plain": [
              "array([[0., 0., 0.],\n",
              "       [1., 0., 0.],\n",
              "       [0., 1., 0.],\n",
              "       [0., 0., 1.]])"
            ]
          },
          "execution_count": 43,
          "metadata": {},
          "output_type": "execute_result"
        }
      ],
      "source": [
        "np.eye(4,3,-1) "
      ]
    },
    {
      "cell_type": "markdown",
      "id": "a079c855",
      "metadata": {
        "id": "a079c855"
      },
      "source": [
        "## ماتریس بالا مثلثی"
      ]
    },
    {
      "cell_type": "code",
      "execution_count": null,
      "id": "9a340082",
      "metadata": {
        "id": "9a340082",
        "outputId": "5ae99fc5-ea67-473c-d624-3540f30162db"
      },
      "outputs": [
        {
          "data": {
            "text/plain": [
              "array([[1., 2., 3.],\n",
              "       [0., 5., 6.],\n",
              "       [0., 0., 9.]])"
            ]
          },
          "execution_count": 44,
          "metadata": {},
          "output_type": "execute_result"
        }
      ],
      "source": [
        "np.triu(arr_1)"
      ]
    },
    {
      "cell_type": "markdown",
      "id": "4a41b894",
      "metadata": {
        "id": "4a41b894"
      },
      "source": [
        "## ماتریس پایین مثلثی"
      ]
    },
    {
      "cell_type": "code",
      "execution_count": null,
      "id": "9288de66",
      "metadata": {
        "id": "9288de66",
        "outputId": "0a61f538-0995-4da6-f88a-79f37ee13409"
      },
      "outputs": [
        {
          "data": {
            "text/plain": [
              "array([[1., 0., 0.],\n",
              "       [4., 5., 0.],\n",
              "       [7., 8., 9.]])"
            ]
          },
          "execution_count": 45,
          "metadata": {},
          "output_type": "execute_result"
        }
      ],
      "source": [
        "np.tril(arr_1)"
      ]
    },
    {
      "cell_type": "markdown",
      "id": "59914616",
      "metadata": {
        "direction": "rtl",
        "id": "59914616"
      },
      "source": [
        "<span style=\"font-size:16px; font-family:xb zar\">\n",
        "     <strong>\n",
        "تمرین 1: \n",
        "</strong>\n",
        "    <br>\n",
        "یک ماتریس با ویژگی های زیر بسازید\n",
        "<ol>\n",
        "  <li>اندازه ی ماتریس 4 در 5 باشد (4 سطر و 5 ستون)</li>\n",
        "  <li> مقادیر ان بین 5 تا 100 باشد </li>\n",
        "  <li> پس از ساخت این ماتریس انرا به ماتریس پایین مثلثی تبدیل کنید</li>\n",
        "</ol>\n",
        "</span>\n",
        "</span<\n"
      ]
    },
    {
      "cell_type": "markdown",
      "id": "499ecbec",
      "metadata": {
        "id": "499ecbec"
      },
      "source": [
        "### پاسخ"
      ]
    },
    {
      "cell_type": "code",
      "execution_count": null,
      "id": "c12a36d1",
      "metadata": {
        "id": "c12a36d1",
        "outputId": "f042c246-5fe2-4425-c625-6f3b3919eb5a"
      },
      "outputs": [
        {
          "data": {
            "text/plain": [
              "array([[ 5.,  0.,  0.,  0.,  0.],\n",
              "       [30., 35.,  0.,  0.,  0.],\n",
              "       [55., 60., 65.,  0.,  0.],\n",
              "       [80., 85., 90., 95.,  0.]])"
            ]
          },
          "execution_count": 46,
          "metadata": {},
          "output_type": "execute_result"
        }
      ],
      "source": [
        "np.tril(np.linspace(5,100,20).reshape((4,5)))"
      ]
    },
    {
      "cell_type": "markdown",
      "id": "69140d6d",
      "metadata": {
        "id": "69140d6d"
      },
      "source": [
        "# توابع کاربردی"
      ]
    },
    {
      "cell_type": "code",
      "execution_count": null,
      "id": "25f6c7b1",
      "metadata": {
        "id": "25f6c7b1",
        "outputId": "72774442-abba-406c-bc23-1ba0555ab382"
      },
      "outputs": [
        {
          "data": {
            "text/plain": [
              "array([[ 5.6,  0. , 15.5],\n",
              "       [ 4. ,  5. ,  6. ],\n",
              "       [ 7.6,  9.5, 11.4]])"
            ]
          },
          "execution_count": 47,
          "metadata": {},
          "output_type": "execute_result"
        }
      ],
      "source": [
        "arr_2"
      ]
    },
    {
      "cell_type": "markdown",
      "id": "14084e1f",
      "metadata": {
        "id": "14084e1f"
      },
      "source": [
        "## تابع نمایی"
      ]
    },
    {
      "cell_type": "code",
      "execution_count": null,
      "id": "e5729931",
      "metadata": {
        "id": "e5729931",
        "outputId": "1d6146db-835d-4cc9-b71c-a3969ae3a368"
      },
      "outputs": [
        {
          "data": {
            "text/plain": [
              "2.718281828459045"
            ]
          },
          "execution_count": 48,
          "metadata": {},
          "output_type": "execute_result"
        }
      ],
      "source": [
        "np.exp(1)"
      ]
    },
    {
      "cell_type": "code",
      "execution_count": null,
      "id": "14b77a48",
      "metadata": {
        "id": "14b77a48",
        "outputId": "79caabfb-6aeb-468c-fc93-7c85a3b87f05"
      },
      "outputs": [
        {
          "data": {
            "text/plain": [
              "array([[2.70426407e+02, 1.00000000e+00, 5.38969848e+06],\n",
              "       [5.45981500e+01, 1.48413159e+02, 4.03428793e+02],\n",
              "       [1.99819590e+03, 1.33597268e+04, 8.93217234e+04]])"
            ]
          },
          "execution_count": 49,
          "metadata": {},
          "output_type": "execute_result"
        }
      ],
      "source": [
        "np.exp(arr_2)"
      ]
    },
    {
      "cell_type": "markdown",
      "id": "98c4d48e",
      "metadata": {
        "id": "98c4d48e"
      },
      "source": [
        "## تابع لگاریتم"
      ]
    },
    {
      "cell_type": "code",
      "execution_count": null,
      "id": "2de39db2",
      "metadata": {
        "id": "2de39db2",
        "outputId": "1cfa6d11-ea32-4f96-b04e-ad75f9857b03"
      },
      "outputs": [
        {
          "name": "stderr",
          "output_type": "stream",
          "text": [
            "C:\\Users\\MSA\\AppData\\Local\\Temp\\ipykernel_11688\\987735503.py:1: RuntimeWarning: divide by zero encountered in log\n",
            "  np.log(arr_2)\n"
          ]
        },
        {
          "data": {
            "text/plain": [
              "array([[1.7227666 ,       -inf, 2.74084002],\n",
              "       [1.38629436, 1.60943791, 1.79175947],\n",
              "       [2.02814825, 2.2512918 , 2.43361336]])"
            ]
          },
          "execution_count": 50,
          "metadata": {},
          "output_type": "execute_result"
        }
      ],
      "source": [
        "np.log(arr_2)"
      ]
    },
    {
      "cell_type": "code",
      "execution_count": null,
      "id": "b99ed258",
      "metadata": {
        "id": "b99ed258",
        "outputId": "a90f8e60-5900-4c37-a17e-d362d3ce3812"
      },
      "outputs": [
        {
          "name": "stderr",
          "output_type": "stream",
          "text": [
            "C:\\Users\\MSA\\AppData\\Local\\Temp\\ipykernel_11688\\3978570549.py:1: RuntimeWarning: divide by zero encountered in log2\n",
            "  np.log2(arr_2)\n"
          ]
        },
        {
          "data": {
            "text/plain": [
              "array([[2.48542683,       -inf, 3.95419631],\n",
              "       [2.        , 2.32192809, 2.5849625 ],\n",
              "       [2.92599942, 3.24792751, 3.51096192]])"
            ]
          },
          "execution_count": 51,
          "metadata": {},
          "output_type": "execute_result"
        }
      ],
      "source": [
        "np.log2(arr_2)"
      ]
    },
    {
      "cell_type": "code",
      "execution_count": null,
      "id": "0f2b8572",
      "metadata": {
        "id": "0f2b8572",
        "outputId": "8cb9b5da-4f86-4b74-d035-4a48f555ac1e"
      },
      "outputs": [
        {
          "name": "stderr",
          "output_type": "stream",
          "text": [
            "C:\\Users\\MSA\\AppData\\Local\\Temp\\ipykernel_11688\\3116882381.py:1: RuntimeWarning: divide by zero encountered in log10\n",
            "  np.log10(arr_2)\n"
          ]
        },
        {
          "data": {
            "text/plain": [
              "array([[0.74818803,       -inf, 1.1903317 ],\n",
              "       [0.60205999, 0.69897   , 0.77815125],\n",
              "       [0.88081359, 0.97772361, 1.05690485]])"
            ]
          },
          "execution_count": 52,
          "metadata": {},
          "output_type": "execute_result"
        }
      ],
      "source": [
        "np.log10(arr_2)"
      ]
    },
    {
      "cell_type": "code",
      "execution_count": null,
      "id": "568a1548",
      "metadata": {
        "id": "568a1548",
        "outputId": "be3da2f1-859e-4b56-c6d7-89471c350be2"
      },
      "outputs": [
        {
          "data": {
            "text/plain": [
              "0.8982444017039272"
            ]
          },
          "execution_count": 53,
          "metadata": {},
          "output_type": "execute_result"
        }
      ],
      "source": [
        "np.log(5)/np.log(6)"
      ]
    },
    {
      "cell_type": "markdown",
      "id": "cab15572",
      "metadata": {
        "id": "cab15572"
      },
      "source": [
        "## کمترین مقدار در ارایه"
      ]
    },
    {
      "cell_type": "code",
      "execution_count": null,
      "id": "ebb20a32",
      "metadata": {
        "id": "ebb20a32",
        "outputId": "220454a5-30cf-44ce-8a29-7a03f359aa4b"
      },
      "outputs": [
        {
          "data": {
            "text/plain": [
              "0.0"
            ]
          },
          "execution_count": 54,
          "metadata": {},
          "output_type": "execute_result"
        }
      ],
      "source": [
        "arr_2.min()"
      ]
    },
    {
      "cell_type": "code",
      "execution_count": null,
      "id": "9e148c8a",
      "metadata": {
        "id": "9e148c8a",
        "outputId": "f1387070-3cb1-45bb-8f6b-9387edc93af9"
      },
      "outputs": [
        {
          "data": {
            "text/plain": [
              "array([1, 0, 1], dtype=int64)"
            ]
          },
          "execution_count": 55,
          "metadata": {},
          "output_type": "execute_result"
        }
      ],
      "source": [
        "arr_2.argmin(axis=0)"
      ]
    },
    {
      "cell_type": "markdown",
      "id": "3ba517af",
      "metadata": {
        "id": "3ba517af"
      },
      "source": [
        "## بیشترین مقدار در ارایه"
      ]
    },
    {
      "cell_type": "code",
      "execution_count": null,
      "id": "bd7ab641",
      "metadata": {
        "id": "bd7ab641",
        "outputId": "658ec363-80c7-4799-8e22-8a36ee54b38d"
      },
      "outputs": [
        {
          "data": {
            "text/plain": [
              "15.5"
            ]
          },
          "execution_count": 56,
          "metadata": {},
          "output_type": "execute_result"
        }
      ],
      "source": [
        "arr_2.max()"
      ]
    },
    {
      "cell_type": "code",
      "execution_count": null,
      "id": "05a3fc74",
      "metadata": {
        "id": "05a3fc74",
        "outputId": "6bca9f5e-7b11-47f3-9a74-bd94b8221a1a"
      },
      "outputs": [
        {
          "data": {
            "text/plain": [
              "2"
            ]
          },
          "execution_count": 57,
          "metadata": {},
          "output_type": "execute_result"
        }
      ],
      "source": [
        "arr_2.argmax()"
      ]
    },
    {
      "cell_type": "markdown",
      "id": "b1aa1066",
      "metadata": {
        "id": "b1aa1066"
      },
      "source": [
        "## مجموع مقادیر ارایه"
      ]
    },
    {
      "cell_type": "code",
      "execution_count": null,
      "id": "5b67ff0c",
      "metadata": {
        "id": "5b67ff0c",
        "outputId": "b7ca4ab7-80e9-444c-c44f-de356ba1b02a"
      },
      "outputs": [
        {
          "data": {
            "text/plain": [
              "64.60000000000001"
            ]
          },
          "execution_count": 58,
          "metadata": {},
          "output_type": "execute_result"
        }
      ],
      "source": [
        "arr_2.sum()"
      ]
    },
    {
      "cell_type": "code",
      "execution_count": null,
      "id": "20130efc",
      "metadata": {
        "id": "20130efc",
        "outputId": "09253a8b-e226-4b0b-a65b-7ac29d82d21c"
      },
      "outputs": [
        {
          "data": {
            "text/plain": [
              "array([ 5.6,  5.6, 21.1, 25.1, 30.1, 36.1, 43.7, 53.2, 64.6])"
            ]
          },
          "execution_count": 59,
          "metadata": {},
          "output_type": "execute_result"
        }
      ],
      "source": [
        "arr_2.cumsum()"
      ]
    },
    {
      "cell_type": "markdown",
      "id": "cc3b03ed",
      "metadata": {
        "id": "cc3b03ed"
      },
      "source": [
        "## میانگین مقادیر ارایه"
      ]
    },
    {
      "cell_type": "code",
      "execution_count": null,
      "id": "df627ff9",
      "metadata": {
        "id": "df627ff9",
        "outputId": "cace47f1-4507-4a45-c7ee-c596c2a4bf78"
      },
      "outputs": [
        {
          "data": {
            "text/plain": [
              "7.177777777777779"
            ]
          },
          "execution_count": 60,
          "metadata": {},
          "output_type": "execute_result"
        }
      ],
      "source": [
        "arr_2.mean()"
      ]
    },
    {
      "cell_type": "code",
      "execution_count": null,
      "id": "78494d01",
      "metadata": {
        "id": "78494d01",
        "outputId": "059b3322-d57c-4447-f687-a22c84edfe0e"
      },
      "outputs": [
        {
          "data": {
            "text/plain": [
              "array([7.03333333, 5.        , 9.5       ])"
            ]
          },
          "execution_count": 61,
          "metadata": {},
          "output_type": "execute_result"
        }
      ],
      "source": [
        "arr_2.mean(axis=1)"
      ]
    },
    {
      "cell_type": "markdown",
      "id": "63fb984e",
      "metadata": {
        "id": "63fb984e"
      },
      "source": [
        "## انحراف مقادیر ارایه"
      ]
    },
    {
      "cell_type": "code",
      "execution_count": null,
      "id": "428a9148",
      "metadata": {
        "id": "428a9148",
        "outputId": "f8a5f7d3-d392-407c-d22c-ad3d961969a4"
      },
      "outputs": [
        {
          "data": {
            "text/plain": [
              "4.25435143974255"
            ]
          },
          "execution_count": 62,
          "metadata": {},
          "output_type": "execute_result"
        }
      ],
      "source": [
        "arr_2.std()"
      ]
    },
    {
      "cell_type": "markdown",
      "id": "41312a66",
      "metadata": {
        "id": "41312a66"
      },
      "source": [
        "## گرد کردن اعداد"
      ]
    },
    {
      "cell_type": "code",
      "execution_count": null,
      "id": "cb61631d",
      "metadata": {
        "id": "cb61631d",
        "outputId": "21f962c2-a578-43a5-f6ae-aae7e340c1b3"
      },
      "outputs": [
        {
          "data": {
            "text/plain": [
              "array([[ 5.6,  0. , 15.5],\n",
              "       [ 4. ,  5. ,  6. ],\n",
              "       [ 7.6,  9.5, 11.4]])"
            ]
          },
          "execution_count": 63,
          "metadata": {},
          "output_type": "execute_result"
        }
      ],
      "source": [
        "arr_2.round(2)"
      ]
    },
    {
      "cell_type": "code",
      "execution_count": null,
      "id": "417dae3c",
      "metadata": {
        "id": "417dae3c",
        "outputId": "6c0278cb-936a-46d9-a2b2-b6b122ade1b3"
      },
      "outputs": [
        {
          "data": {
            "text/plain": [
              "7.178"
            ]
          },
          "execution_count": 64,
          "metadata": {},
          "output_type": "execute_result"
        }
      ],
      "source": [
        "np.round(arr_2.mean(),3)"
      ]
    },
    {
      "cell_type": "code",
      "execution_count": null,
      "id": "5ee2ed7d",
      "metadata": {
        "id": "5ee2ed7d",
        "outputId": "ea469e11-4fc6-43c7-db9a-8b0c875ffcba"
      },
      "outputs": [
        {
          "data": {
            "text/plain": [
              "array([[ 6.,  0., 16.],\n",
              "       [ 4.,  5.,  6.],\n",
              "       [ 8., 10., 12.]])"
            ]
          },
          "execution_count": 65,
          "metadata": {},
          "output_type": "execute_result"
        }
      ],
      "source": [
        "np.ceil(arr_2)"
      ]
    },
    {
      "cell_type": "code",
      "execution_count": null,
      "id": "baced27e",
      "metadata": {
        "id": "baced27e",
        "outputId": "36576528-9478-4f4d-edf2-0ef01eda32cc"
      },
      "outputs": [
        {
          "data": {
            "text/plain": [
              "array([[ 5.,  0., 15.],\n",
              "       [ 4.,  5.,  6.],\n",
              "       [ 7.,  9., 11.]])"
            ]
          },
          "execution_count": 66,
          "metadata": {},
          "output_type": "execute_result"
        }
      ],
      "source": [
        "np.floor(arr_2)"
      ]
    },
    {
      "cell_type": "markdown",
      "id": "846d2b51",
      "metadata": {
        "id": "846d2b51"
      },
      "source": [
        "## برای تبدیل یک آرایه چندبعدی به یک آرایه یک بعدی "
      ]
    },
    {
      "cell_type": "code",
      "execution_count": null,
      "id": "0b6fea24",
      "metadata": {
        "id": "0b6fea24",
        "outputId": "ec8275a4-c04d-403c-b003-ca28b3899566"
      },
      "outputs": [
        {
          "data": {
            "text/plain": [
              "array([1., 2., 3., 4., 5., 6., 7., 8., 9.])"
            ]
          },
          "execution_count": 67,
          "metadata": {},
          "output_type": "execute_result"
        }
      ],
      "source": [
        "arr_1.flatten()"
      ]
    },
    {
      "cell_type": "code",
      "execution_count": null,
      "id": "214f8882",
      "metadata": {
        "id": "214f8882",
        "outputId": "7b796fd0-af7a-491f-a0d4-d65d705b95ed"
      },
      "outputs": [
        {
          "data": {
            "text/plain": [
              "array([1., 2., 3., 4., 5., 6., 7., 8., 9.])"
            ]
          },
          "execution_count": 68,
          "metadata": {},
          "output_type": "execute_result"
        }
      ],
      "source": [
        "arr_1.flatten(order=\"C\")"
      ]
    },
    {
      "cell_type": "code",
      "execution_count": null,
      "id": "b0155b06",
      "metadata": {
        "id": "b0155b06",
        "outputId": "5b89e190-10e2-4ffc-93e4-09193c4f7bc5"
      },
      "outputs": [
        {
          "data": {
            "text/plain": [
              "array([1., 4., 7., 2., 5., 8., 3., 6., 9.])"
            ]
          },
          "execution_count": 69,
          "metadata": {},
          "output_type": "execute_result"
        }
      ],
      "source": [
        "arr_1.flatten(order=\"F\")"
      ]
    },
    {
      "cell_type": "markdown",
      "id": "564b38ec",
      "metadata": {
        "id": "564b38ec"
      },
      "source": [
        "## اتصال دو ارایه "
      ]
    },
    {
      "cell_type": "code",
      "execution_count": null,
      "id": "16347f8a",
      "metadata": {
        "id": "16347f8a",
        "outputId": "7e249229-ab63-4062-cfff-72e095832ebe"
      },
      "outputs": [
        {
          "data": {
            "text/plain": [
              "array([1., 2., 3., 4., 5., 6., 7., 8., 9.])"
            ]
          },
          "execution_count": 70,
          "metadata": {},
          "output_type": "execute_result"
        }
      ],
      "source": [
        "arr_1.flatten(order=\"K\")"
      ]
    },
    {
      "cell_type": "code",
      "execution_count": null,
      "id": "8bff269d",
      "metadata": {
        "id": "8bff269d",
        "outputId": "8e91f61e-c802-4630-da84-919638898e74"
      },
      "outputs": [
        {
          "data": {
            "text/plain": [
              "array([[ 1. ,  2. ,  3. ],\n",
              "       [ 4. ,  5. ,  6. ],\n",
              "       [ 7. ,  8. ,  9. ],\n",
              "       [ 5.6,  0. , 15.5],\n",
              "       [ 4. ,  5. ,  6. ],\n",
              "       [ 7.6,  9.5, 11.4]])"
            ]
          },
          "execution_count": 71,
          "metadata": {},
          "output_type": "execute_result"
        }
      ],
      "source": [
        "np.vstack((arr_1,arr_2)) # np.concatenate((arr_1,arr_2), axis=0)"
      ]
    },
    {
      "cell_type": "code",
      "execution_count": null,
      "id": "231b4f48",
      "metadata": {
        "id": "231b4f48",
        "outputId": "072d55a0-7997-4515-a52e-79ef24a9007e"
      },
      "outputs": [
        {
          "data": {
            "text/plain": [
              "array([[ 1. ,  2. ,  3. ,  5.6,  0. , 15.5],\n",
              "       [ 4. ,  5. ,  6. ,  4. ,  5. ,  6. ],\n",
              "       [ 7. ,  8. ,  9. ,  7.6,  9.5, 11.4]])"
            ]
          },
          "execution_count": 72,
          "metadata": {},
          "output_type": "execute_result"
        }
      ],
      "source": [
        "np.hstack((arr_1,arr_2)) # np.concatenate((arr_1,arr_2), axis=1)"
      ]
    },
    {
      "cell_type": "code",
      "execution_count": null,
      "id": "04f33068",
      "metadata": {
        "id": "04f33068",
        "outputId": "5fafd107-0773-493a-ad5a-c96e71558c71"
      },
      "outputs": [
        {
          "data": {
            "text/plain": [
              "array([[[ 1. ,  2. ,  3. ],\n",
              "        [ 4. ,  5. ,  6. ],\n",
              "        [ 7. ,  8. ,  9. ]],\n",
              "\n",
              "       [[ 5.6,  0. , 15.5],\n",
              "        [ 4. ,  5. ,  6. ],\n",
              "        [ 7.6,  9.5, 11.4]]])"
            ]
          },
          "execution_count": 73,
          "metadata": {},
          "output_type": "execute_result"
        }
      ],
      "source": [
        "arr_3 = np.concatenate((arr_1.reshape((1,3,3)),arr_2.reshape((1,3,3))), axis=0)\n",
        "arr_3"
      ]
    },
    {
      "cell_type": "code",
      "execution_count": null,
      "id": "8fb9a37e",
      "metadata": {
        "id": "8fb9a37e",
        "outputId": "fce2a53f-4deb-40d0-831f-4031cca92b1f"
      },
      "outputs": [
        {
          "data": {
            "text/plain": [
              "(2, 3, 3)"
            ]
          },
          "execution_count": 74,
          "metadata": {},
          "output_type": "execute_result"
        }
      ],
      "source": [
        "arr_3.shape"
      ]
    },
    {
      "cell_type": "markdown",
      "id": "ead6a890",
      "metadata": {
        "id": "ead6a890"
      },
      "source": [
        "## توابع مثلثاتی و هایپربولیک "
      ]
    },
    {
      "cell_type": "code",
      "execution_count": null,
      "id": "9ffb0489",
      "metadata": {
        "id": "9ffb0489"
      },
      "outputs": [],
      "source": [
        "pi = np.pi"
      ]
    },
    {
      "cell_type": "code",
      "execution_count": null,
      "id": "d47916c4",
      "metadata": {
        "id": "d47916c4"
      },
      "outputs": [],
      "source": [
        "deg = np.array([0, 30, 45, 60, 90, 180, 270, 180])"
      ]
    },
    {
      "cell_type": "code",
      "execution_count": null,
      "id": "062356a9",
      "metadata": {
        "id": "062356a9",
        "outputId": "b163a7a3-4b9f-4ee2-bcf6-c24d767c091a"
      },
      "outputs": [
        {
          "data": {
            "text/plain": [
              "array([0.        , 0.52359878, 0.78539816, 1.04719755, 1.57079633,\n",
              "       3.14159265, 4.71238898, 3.14159265])"
            ]
          },
          "execution_count": 77,
          "metadata": {},
          "output_type": "execute_result"
        }
      ],
      "source": [
        "rad = np.deg2rad(deg)\n",
        "rad"
      ]
    },
    {
      "cell_type": "code",
      "execution_count": null,
      "id": "fa8a1745",
      "metadata": {
        "id": "fa8a1745",
        "outputId": "994a902e-093d-445f-9eb0-f8f8bf27e481"
      },
      "outputs": [
        {
          "data": {
            "text/plain": [
              "array([  0.,  30.,  45.,  60.,  90., 180., 270., 180.])"
            ]
          },
          "execution_count": 78,
          "metadata": {},
          "output_type": "execute_result"
        }
      ],
      "source": [
        "np.rad2deg(rad)"
      ]
    },
    {
      "cell_type": "code",
      "execution_count": null,
      "id": "2e0a56ae",
      "metadata": {
        "id": "2e0a56ae",
        "outputId": "85c73640-dce4-4f39-f3eb-8d04ca6864ae"
      },
      "outputs": [
        {
          "data": {
            "text/plain": [
              "array([ 0.   ,  0.5  ,  0.707,  0.866,  1.   ,  0.   , -1.   ,  0.   ])"
            ]
          },
          "execution_count": 79,
          "metadata": {},
          "output_type": "execute_result"
        }
      ],
      "source": [
        "np.round(np.sin(rad),3)"
      ]
    },
    {
      "cell_type": "code",
      "execution_count": null,
      "id": "e8892dce",
      "metadata": {
        "id": "e8892dce",
        "outputId": "636b1ae7-0c26-4285-de29-6517f4e2a20d"
      },
      "outputs": [
        {
          "data": {
            "text/plain": [
              "array([ 1.   ,  0.866,  0.707,  0.5  ,  0.   , -1.   , -0.   , -1.   ])"
            ]
          },
          "execution_count": 80,
          "metadata": {},
          "output_type": "execute_result"
        }
      ],
      "source": [
        "np.round(np.cos(rad),3)"
      ]
    },
    {
      "cell_type": "code",
      "execution_count": null,
      "id": "430c47fc",
      "metadata": {
        "id": "430c47fc",
        "outputId": "de4eb565-220e-4cfe-85cf-8d5cd9be64eb"
      },
      "outputs": [
        {
          "data": {
            "text/plain": [
              "array([ 0.00000000e+00,  5.77000000e-01,  1.00000000e+00,  1.73200000e+00,\n",
              "        1.63312394e+16, -0.00000000e+00,  5.44374645e+15, -0.00000000e+00])"
            ]
          },
          "execution_count": 81,
          "metadata": {},
          "output_type": "execute_result"
        }
      ],
      "source": [
        "np.round(np.tan(rad),3)"
      ]
    },
    {
      "cell_type": "code",
      "execution_count": null,
      "id": "1c2b10dc",
      "metadata": {
        "id": "1c2b10dc",
        "outputId": "f7ead483-e5f6-4eb6-e7a7-20ed395e5ec0"
      },
      "outputs": [
        {
          "data": {
            "text/plain": [
              "array([ 0.   ,  0.548,  0.869,  1.249,  2.301, 11.549, 55.654, 11.549])"
            ]
          },
          "execution_count": 82,
          "metadata": {},
          "output_type": "execute_result"
        }
      ],
      "source": [
        "np.round(np.sinh(rad),3)"
      ]
    },
    {
      "cell_type": "code",
      "execution_count": null,
      "id": "b58ea314",
      "metadata": {
        "id": "b58ea314",
        "outputId": "92544d6d-855d-4e0d-f198-ab32152bb15d"
      },
      "outputs": [
        {
          "data": {
            "text/plain": [
              "array([ 1.   ,  1.14 ,  1.325,  1.6  ,  2.509, 11.592, 55.663, 11.592])"
            ]
          },
          "execution_count": 83,
          "metadata": {},
          "output_type": "execute_result"
        }
      ],
      "source": [
        "np.round(np.cosh(rad),3)"
      ]
    },
    {
      "cell_type": "code",
      "execution_count": null,
      "id": "36e18799",
      "metadata": {
        "id": "36e18799",
        "outputId": "c5eab8b7-e674-4f5a-a67c-6008cdce0631"
      },
      "outputs": [
        {
          "data": {
            "text/plain": [
              "array([0.   , 0.48 , 0.656, 0.781, 0.917, 0.996, 1.   , 0.996])"
            ]
          },
          "execution_count": 84,
          "metadata": {},
          "output_type": "execute_result"
        }
      ],
      "source": [
        "np.round(np.tanh(rad),3)"
      ]
    },
    {
      "cell_type": "markdown",
      "id": "5f1946f7",
      "metadata": {
        "id": "5f1946f7"
      },
      "source": [
        "# اعداد تصادفی"
      ]
    },
    {
      "cell_type": "code",
      "execution_count": null,
      "id": "675ada47",
      "metadata": {
        "id": "675ada47"
      },
      "outputs": [],
      "source": [
        "np.random.seed(42)"
      ]
    },
    {
      "cell_type": "markdown",
      "id": "44a90270",
      "metadata": {
        "direction": "rtl",
        "id": "44a90270"
      },
      "source": [
        "<span style=\"font-size:16px; font-family:xb zar\">\n",
        "برخی از توزیع های اعداد تصادفی در numpy\n",
        "<ul>\n",
        "  <li>\n",
        "توزیع یکنواخت (Uniform Distribution) \n",
        "</li>\n",
        "  <li>\n",
        "توزیع نرمال (Normal Distribution) \n",
        "</li>\n",
        "  <li>\n",
        "توزیع پوآسون (Poisson Distribution) \n",
        "</li>\n",
        "  <li>\n",
        "      توزیع گاما (Gamma Distribution)\n",
        "</li>\n",
        "  <li>\n",
        " توزیع بینومیال (Binomial  Distribution)\n",
        "</li>\n",
        "</ul>\n",
        "</span<\n"
      ]
    },
    {
      "cell_type": "markdown",
      "id": "c37e73c3",
      "metadata": {
        "id": "c37e73c3"
      },
      "source": [
        "## توزیع یکنواخت"
      ]
    },
    {
      "cell_type": "markdown",
      "id": "19c60b9f",
      "metadata": {
        "id": "19c60b9f"
      },
      "source": [
        "![image.png](attachment:image.png)"
      ]
    },
    {
      "cell_type": "code",
      "execution_count": null,
      "id": "4572b055",
      "metadata": {
        "id": "4572b055",
        "outputId": "d60950f2-46d2-4ff5-ccc9-2ce2a795ef15"
      },
      "outputs": [
        {
          "data": {
            "text/plain": [
              "array([0.37454012, 0.95071431, 0.73199394, 0.59865848, 0.15601864,\n",
              "       0.15599452, 0.05808361, 0.86617615, 0.60111501, 0.70807258])"
            ]
          },
          "execution_count": 86,
          "metadata": {},
          "output_type": "execute_result"
        }
      ],
      "source": [
        "np.random.uniform(low=0.0, high=1.0, size=(10))"
      ]
    },
    {
      "cell_type": "markdown",
      "id": "0a8e8b45",
      "metadata": {
        "id": "0a8e8b45"
      },
      "source": [
        "# توزیع نرمال"
      ]
    },
    {
      "cell_type": "markdown",
      "id": "e0898ff2",
      "metadata": {
        "id": "e0898ff2"
      },
      "source": [
        "![image.png](attachment:image.png)"
      ]
    },
    {
      "cell_type": "code",
      "execution_count": null,
      "id": "6f2629f5",
      "metadata": {
        "id": "6f2629f5",
        "outputId": "6c6ae276-e3f3-485a-c674-99450c7d4d9f"
      },
      "outputs": [
        {
          "data": {
            "text/plain": [
              "array([[-0.46947439,  0.54256004, -0.46341769, -0.46572975,  0.24196227],\n",
              "       [-1.91328024, -1.72491783, -0.56228753, -1.01283112,  0.31424733],\n",
              "       [-0.90802408, -1.4123037 ,  1.46564877, -0.2257763 ,  0.0675282 ],\n",
              "       [-1.42474819, -0.54438272,  0.11092259, -1.15099358,  0.37569802],\n",
              "       [-0.60063869, -0.29169375, -0.60170661,  1.85227818, -0.01349722]])"
            ]
          },
          "execution_count": 87,
          "metadata": {},
          "output_type": "execute_result"
        }
      ],
      "source": [
        "arr_rnd_normal = np.random.normal(size=(5,5),loc=0.0, scale=1.0)\n",
        "arr_rnd_normal"
      ]
    },
    {
      "cell_type": "code",
      "execution_count": null,
      "id": "68ecc2e1",
      "metadata": {
        "id": "68ecc2e1",
        "outputId": "9045761a-b92b-4bfe-cc88-148e06017045"
      },
      "outputs": [
        {
          "data": {
            "text/plain": [
              "(0.8726954184689275, -0.35259431949304265)"
            ]
          },
          "execution_count": 88,
          "metadata": {},
          "output_type": "execute_result"
        }
      ],
      "source": [
        "arr_rnd_normal.std(), arr_rnd_normal.mean()"
      ]
    },
    {
      "cell_type": "markdown",
      "id": "29d45cfc",
      "metadata": {
        "id": "29d45cfc"
      },
      "source": [
        "## توزیع پوآسون"
      ]
    },
    {
      "cell_type": "code",
      "execution_count": null,
      "id": "cdc75180",
      "metadata": {
        "id": "cdc75180"
      },
      "outputs": [],
      "source": []
    },
    {
      "cell_type": "code",
      "execution_count": null,
      "id": "60bcd0b5",
      "metadata": {
        "id": "60bcd0b5",
        "outputId": "5255dfb9-45e7-4f75-e9db-124907336aba"
      },
      "outputs": [
        {
          "data": {
            "text/plain": [
              "array([[[0, 1, 1],\n",
              "        [1, 0, 5],\n",
              "        [0, 0, 0],\n",
              "        [0, 1, 1]],\n",
              "\n",
              "       [[0, 1, 1],\n",
              "        [2, 0, 3],\n",
              "        [0, 0, 0],\n",
              "        [2, 0, 0]]])"
            ]
          },
          "execution_count": 89,
          "metadata": {},
          "output_type": "execute_result"
        }
      ],
      "source": [
        "np.random.poisson(lam=1.0, size=(2,4,3))"
      ]
    },
    {
      "cell_type": "markdown",
      "id": "04ba58b7",
      "metadata": {
        "id": "04ba58b7"
      },
      "source": [
        "## توزیع گاما"
      ]
    },
    {
      "cell_type": "code",
      "execution_count": null,
      "id": "683e814e",
      "metadata": {
        "scrolled": true,
        "id": "683e814e",
        "outputId": "1cacc254-e767-443d-9fcf-f94c7aa84a8f"
      },
      "outputs": [
        {
          "data": {
            "text/plain": [
              "array([[0.39331421, 1.30787578, 1.01488936],\n",
              "       [2.18225191, 0.63906613, 0.12737239]])"
            ]
          },
          "execution_count": 90,
          "metadata": {},
          "output_type": "execute_result"
        }
      ],
      "source": [
        "np.random.gamma(shape=1, scale=1.0, size=(2,3))"
      ]
    },
    {
      "cell_type": "markdown",
      "id": "a485011f",
      "metadata": {
        "id": "a485011f"
      },
      "source": [
        "##  توزیع بینومیال"
      ]
    },
    {
      "cell_type": "code",
      "execution_count": null,
      "id": "966e6423",
      "metadata": {
        "id": "966e6423",
        "outputId": "a4ef76b0-732f-4792-b42c-89a0ff4c026c"
      },
      "outputs": [
        {
          "data": {
            "text/plain": [
              "array([4, 5, 4, 5])"
            ]
          },
          "execution_count": 91,
          "metadata": {},
          "output_type": "execute_result"
        }
      ],
      "source": [
        "np.random.binomial(n=12, p=0.3, size=4)"
      ]
    },
    {
      "cell_type": "markdown",
      "id": "d32bfdf6",
      "metadata": {
        "id": "d32bfdf6"
      },
      "source": [
        "#  عملیات های جبری "
      ]
    },
    {
      "cell_type": "code",
      "execution_count": null,
      "id": "88f032fc",
      "metadata": {
        "id": "88f032fc",
        "outputId": "2c4bbbff-34d3-43b2-c9e0-e7ef953a9a6f"
      },
      "outputs": [
        {
          "data": {
            "text/plain": [
              "array([[1., 2., 3.],\n",
              "       [4., 5., 6.],\n",
              "       [7., 8., 9.]])"
            ]
          },
          "execution_count": 92,
          "metadata": {},
          "output_type": "execute_result"
        }
      ],
      "source": [
        "arr_1"
      ]
    },
    {
      "cell_type": "code",
      "execution_count": null,
      "id": "6eff6e5c",
      "metadata": {
        "id": "6eff6e5c",
        "outputId": "234b4334-0564-43cb-d59c-545d62819a6e"
      },
      "outputs": [
        {
          "data": {
            "text/plain": [
              "array([[ 5.6,  0. , 15.5],\n",
              "       [ 4. ,  5. ,  6. ],\n",
              "       [ 7.6,  9.5, 11.4]])"
            ]
          },
          "execution_count": 93,
          "metadata": {},
          "output_type": "execute_result"
        }
      ],
      "source": [
        "arr_2"
      ]
    },
    {
      "cell_type": "code",
      "execution_count": null,
      "id": "89743bc8",
      "metadata": {
        "id": "89743bc8",
        "outputId": "bd09a65d-910d-4161-9f15-21a74816656c"
      },
      "outputs": [
        {
          "data": {
            "text/plain": [
              "array([[4, 6],\n",
              "       [5, 9]])"
            ]
          },
          "execution_count": 94,
          "metadata": {},
          "output_type": "execute_result"
        }
      ],
      "source": [
        "arr_3 = np.array([[4,6],[5,9]])\n",
        "arr_3"
      ]
    },
    {
      "cell_type": "markdown",
      "id": "dc76260f",
      "metadata": {
        "id": "dc76260f"
      },
      "source": [
        "## دترمینان ماتریس"
      ]
    },
    {
      "cell_type": "code",
      "execution_count": null,
      "id": "7339d42e",
      "metadata": {
        "id": "7339d42e",
        "outputId": "8b5f677f-ff5a-49ac-c374-5c41936e9465"
      },
      "outputs": [
        {
          "data": {
            "text/plain": [
              "6.0"
            ]
          },
          "execution_count": 95,
          "metadata": {},
          "output_type": "execute_result"
        }
      ],
      "source": [
        "np.linalg.det(arr_3)"
      ]
    },
    {
      "cell_type": "markdown",
      "id": "049cad2a",
      "metadata": {
        "id": "049cad2a"
      },
      "source": [
        "## ماتریس وارون"
      ]
    },
    {
      "cell_type": "code",
      "execution_count": null,
      "id": "86dd71ac",
      "metadata": {
        "id": "86dd71ac",
        "outputId": "974ad605-4b0b-4f33-de68-8b3980bc7c10"
      },
      "outputs": [
        {
          "data": {
            "text/plain": [
              "array([[ 1.5       , -1.        ],\n",
              "       [-0.83333333,  0.66666667]])"
            ]
          },
          "execution_count": 96,
          "metadata": {},
          "output_type": "execute_result"
        }
      ],
      "source": [
        "arr_3_inv = np.linalg.inv(arr_3)\n",
        "arr_3_inv"
      ]
    },
    {
      "cell_type": "code",
      "execution_count": null,
      "id": "14b15489",
      "metadata": {
        "id": "14b15489",
        "outputId": "fc616799-a7dc-4fd5-cd64-ab84aeee203d"
      },
      "outputs": [
        {
          "data": {
            "text/plain": [
              "array([[ 6.        , -6.        ],\n",
              "       [-4.16666667,  6.        ]])"
            ]
          },
          "execution_count": 97,
          "metadata": {},
          "output_type": "execute_result"
        }
      ],
      "source": [
        "arr_3 * arr_3_inv"
      ]
    },
    {
      "cell_type": "code",
      "execution_count": null,
      "id": "180bc114",
      "metadata": {
        "id": "180bc114"
      },
      "outputs": [],
      "source": [
        "np.linalg.inv(arr_2)"
      ]
    },
    {
      "cell_type": "markdown",
      "id": "7fec40f6",
      "metadata": {
        "id": "7fec40f6"
      },
      "source": [
        "## ماتریس شبه وارون"
      ]
    },
    {
      "cell_type": "code",
      "execution_count": null,
      "id": "e3b5a789",
      "metadata": {
        "id": "e3b5a789",
        "outputId": "03639b96-3a03-4d82-8587-aa008c0fce44"
      },
      "outputs": [
        {
          "data": {
            "text/plain": [
              "array([[-0.00400168,  0.0125695 ,  0.02388204],\n",
              "       [-0.07595293,  0.03877784,  0.07367789],\n",
              "       [ 0.0659619 , -0.00454124, -0.00862835]])"
            ]
          },
          "execution_count": 99,
          "metadata": {},
          "output_type": "execute_result"
        }
      ],
      "source": [
        "np.linalg.pinv(arr_2)"
      ]
    },
    {
      "cell_type": "markdown",
      "id": "7bf157dd",
      "metadata": {
        "id": "7bf157dd"
      },
      "source": [
        "##  نرم (مقدار) "
      ]
    },
    {
      "cell_type": "code",
      "execution_count": null,
      "id": "ecc4b8ae",
      "metadata": {
        "id": "ecc4b8ae",
        "outputId": "9bb502fc-6794-41d1-a211-52c8ea6450db"
      },
      "outputs": [
        {
          "data": {
            "text/plain": [
              "25.031580054003783"
            ]
          },
          "execution_count": 100,
          "metadata": {},
          "output_type": "execute_result"
        }
      ],
      "source": [
        "np.linalg.norm(arr_2)"
      ]
    },
    {
      "cell_type": "code",
      "execution_count": null,
      "id": "2d4993ed",
      "metadata": {
        "id": "2d4993ed",
        "outputId": "67fa1064-b458-498f-b6cb-bb1dc4d42eb4"
      },
      "outputs": [
        {
          "data": {
            "text/plain": [
              "32.9"
            ]
          },
          "execution_count": 101,
          "metadata": {},
          "output_type": "execute_result"
        }
      ],
      "source": [
        "np.linalg.norm(arr_2,ord=1)"
      ]
    },
    {
      "cell_type": "markdown",
      "id": "7b219e9a",
      "metadata": {
        "id": "7b219e9a"
      },
      "source": [
        "# حل چند معادله چند مجهول"
      ]
    },
    {
      "cell_type": "markdown",
      "id": "c2604324",
      "metadata": {
        "id": "c2604324"
      },
      "source": [
        "\\begin{cases}  \n",
        "    a_{1,1}x+b_{1,2}y+c_{1,3}z = d_1\\\\\n",
        "    a_{2,1}x+b_{2,2}y+c_{2,3}z = d_2\\\\\n",
        "    a_{3,1}x+b_{3,2}y+c_{3,3}z = d_3\\\\\n",
        "  \\end{cases}  \n",
        "\n",
        "\n",
        "$$\n",
        "\\begin{bmatrix}\n",
        "    a_{1,1}&b_{1,2}&c_{1,3}\\\\ \n",
        "    a_{2,1}&b_{2,2}&c_{2,3}\\\\ \n",
        "    a_{3,1}&b_{3,2}&c_{3,3}\\\\ \n",
        "\\end{bmatrix} \n",
        "*\n",
        "\\begin{bmatrix}\n",
        "    x \\\\ y \\\\ z\n",
        "\\end{bmatrix}\n",
        "= \n",
        "\\begin{bmatrix}\n",
        "    d_1\\\\ \n",
        "    d_2\\\\ \n",
        "    d_3\\\\ \n",
        "\\end{bmatrix} \n",
        "$$"
      ]
    },
    {
      "cell_type": "code",
      "execution_count": null,
      "id": "6bd85cb8",
      "metadata": {
        "id": "6bd85cb8"
      },
      "outputs": [],
      "source": [
        "np.random.seed(42)"
      ]
    },
    {
      "cell_type": "code",
      "execution_count": null,
      "id": "b70be9f6",
      "metadata": {
        "id": "b70be9f6",
        "outputId": "4420fd7a-9638-4c8a-e3ab-7f58c8d37068"
      },
      "outputs": [
        {
          "data": {
            "text/plain": [
              "array([[19,  3, 13],\n",
              "       [ 2, 23,  5],\n",
              "       [11,  7, 17]])"
            ]
          },
          "execution_count": 103,
          "metadata": {},
          "output_type": "execute_result"
        }
      ],
      "source": [
        "a = np.array([2, 3, 5, 7, 11, 13, 17, 19, 23])\n",
        "np.random.shuffle(a)\n",
        "a = a.reshape((3,3))\n",
        "a"
      ]
    },
    {
      "cell_type": "code",
      "execution_count": null,
      "id": "a251ad8d",
      "metadata": {
        "id": "a251ad8d",
        "outputId": "d94c8986-4f0f-45cc-db1d-45b1e89a0719"
      },
      "outputs": [
        {
          "data": {
            "text/plain": [
              "array([[ 1,  1,  1],\n",
              "       [ 1, -1,  1],\n",
              "       [-1, -1, -1]])"
            ]
          },
          "execution_count": 104,
          "metadata": {},
          "output_type": "execute_result"
        }
      ],
      "source": [
        "s = np.random.choice([1,-1],a.shape)\n",
        "s"
      ]
    },
    {
      "cell_type": "code",
      "execution_count": null,
      "id": "52c0c8cc",
      "metadata": {
        "id": "52c0c8cc",
        "outputId": "d4fb997c-bfab-408b-cd59-40a1ff6f000e"
      },
      "outputs": [
        {
          "data": {
            "text/plain": [
              "array([[ 19,   3,  13],\n",
              "       [  2, -23,   5],\n",
              "       [-11,  -7, -17]])"
            ]
          },
          "execution_count": 105,
          "metadata": {},
          "output_type": "execute_result"
        }
      ],
      "source": [
        "A = a * s\n",
        "A"
      ]
    },
    {
      "cell_type": "code",
      "execution_count": null,
      "id": "514c8299",
      "metadata": {
        "id": "514c8299",
        "outputId": "30e7c334-9838-4773-b6d6-3bc2de493500"
      },
      "outputs": [
        {
          "data": {
            "text/plain": [
              "array([ 5, 13, 11])"
            ]
          },
          "execution_count": 106,
          "metadata": {},
          "output_type": "execute_result"
        }
      ],
      "source": [
        "var = np.array([2, 3, 5, 7,11,13])\n",
        "var = np.random.choice(var,3)\n",
        "var"
      ]
    },
    {
      "cell_type": "code",
      "execution_count": null,
      "id": "dfd66c0e",
      "metadata": {
        "id": "dfd66c0e",
        "outputId": "7b50c5b5-cd71-46dc-d778-7b26db7d1581"
      },
      "outputs": [
        {
          "data": {
            "text/plain": [
              "array([ 277, -234, -333])"
            ]
          },
          "execution_count": 107,
          "metadata": {},
          "output_type": "execute_result"
        }
      ],
      "source": [
        "B = A @ var\n",
        "B"
      ]
    },
    {
      "cell_type": "code",
      "execution_count": null,
      "id": "c19dd298",
      "metadata": {
        "id": "c19dd298",
        "outputId": "c6139619-dcb4-452d-9463-b2b991b16521"
      },
      "outputs": [
        {
          "data": {
            "text/plain": [
              "array([ 5., 13., 11.])"
            ]
          },
          "execution_count": 108,
          "metadata": {},
          "output_type": "execute_result"
        }
      ],
      "source": [
        "np.linalg.solve(A,B)"
      ]
    },
    {
      "cell_type": "code",
      "execution_count": null,
      "id": "364a7b83",
      "metadata": {
        "id": "364a7b83"
      },
      "outputs": [],
      "source": [
        "A = np.array([[1,2,3],[2,4,6],[6,8,1]])\n",
        "B = np.array([6,3,7])"
      ]
    },
    {
      "cell_type": "code",
      "execution_count": null,
      "id": "b47db7be",
      "metadata": {
        "id": "b47db7be"
      },
      "outputs": [],
      "source": [
        "np.linalg.solve(A,B)"
      ]
    },
    {
      "cell_type": "markdown",
      "id": "cc4433cf",
      "metadata": {
        "id": "cc4433cf"
      },
      "source": [
        "# ذخیره و بارگذازی آرایه ها از فایل"
      ]
    },
    {
      "cell_type": "code",
      "execution_count": null,
      "id": "e7753b9d",
      "metadata": {
        "id": "e7753b9d"
      },
      "outputs": [],
      "source": [
        "rnd_number = np.random.normal(size=(100,100))\n",
        "rnd_number = rnd_number.round(2)"
      ]
    },
    {
      "cell_type": "code",
      "execution_count": null,
      "id": "3c520f59",
      "metadata": {
        "id": "3c520f59"
      },
      "outputs": [],
      "source": [
        "np.savetxt(\"rnd_number.txt\",rnd_number,fmt='%.2e')"
      ]
    },
    {
      "cell_type": "code",
      "execution_count": null,
      "id": "898560ff",
      "metadata": {
        "id": "898560ff",
        "outputId": "55322012-3b76-4c84-d754-9559a9d2df17"
      },
      "outputs": [
        {
          "data": {
            "text/plain": [
              "array([[-0.58, -0.53, -0.57, ...,  1.4 , -0.02, -1.67],\n",
              "       [-1.07, -0.99,  0.1 , ...,  1.07, -0.96,  1.38],\n",
              "       [ 0.91, -0.6 ,  0.3 , ...,  1.16,  1.55, -0.44],\n",
              "       ...,\n",
              "       [ 0.28, -0.3 , -1.34, ..., -1.1 ,  1.56,  0.25],\n",
              "       [ 0.4 ,  0.44, -1.2 , ..., -0.99, -0.69, -1.27],\n",
              "       [ 0.15,  0.81, -0.07, ...,  0.16,  0.8 ,  1.19]])"
            ]
          },
          "execution_count": 113,
          "metadata": {},
          "output_type": "execute_result"
        }
      ],
      "source": [
        "np.loadtxt(\"rnd_number.txt\",dtype=\"float\")\n",
        "# np.loadtxt(\"mtx2.txt\",dtype=\"float\",delimiter=\",\")"
      ]
    },
    {
      "cell_type": "code",
      "execution_count": null,
      "id": "283bc1bc",
      "metadata": {
        "id": "283bc1bc"
      },
      "outputs": [],
      "source": [
        "np.savetxt(\"rnd_number.txt\",rnd_number,fmt='%.2e')"
      ]
    },
    {
      "cell_type": "code",
      "execution_count": null,
      "id": "caa95682",
      "metadata": {
        "id": "caa95682"
      },
      "outputs": [],
      "source": [
        "with open(\"rnd_number.npy\",\"wb\") as f:\n",
        "    np.save(f,rnd_number)"
      ]
    },
    {
      "cell_type": "code",
      "execution_count": null,
      "id": "651a595b",
      "metadata": {
        "id": "651a595b"
      },
      "outputs": [],
      "source": [
        "with open(\"rnd_number.npy\",\"rb\") as f:\n",
        "    aa = np.load(f)"
      ]
    }
  ],
  "metadata": {
    "kernelspec": {
      "display_name": "Python 3 (ipykernel)",
      "language": "python",
      "name": "python3"
    },
    "language_info": {
      "codemirror_mode": {
        "name": "ipython",
        "version": 3
      },
      "file_extension": ".py",
      "mimetype": "text/x-python",
      "name": "python",
      "nbconvert_exporter": "python",
      "pygments_lexer": "ipython3",
      "version": "3.10.9"
    },
    "colab": {
      "provenance": [],
      "include_colab_link": true
    }
  },
  "nbformat": 4,
  "nbformat_minor": 5
}
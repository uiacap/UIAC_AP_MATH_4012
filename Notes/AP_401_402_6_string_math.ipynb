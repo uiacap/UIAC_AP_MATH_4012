{
  "nbformat": 4,
  "nbformat_minor": 0,
  "metadata": {
    "colab": {
      "provenance": [],
      "authorship_tag": "ABX9TyMTdlQF8U0uI/KBvWLLhx7m",
      "include_colab_link": true
    },
    "kernelspec": {
      "name": "python3",
      "display_name": "Python 3"
    },
    "language_info": {
      "name": "python"
    }
  },
  "cells": [
    {
      "cell_type": "markdown",
      "metadata": {
        "id": "view-in-github",
        "colab_type": "text"
      },
      "source": [
        "<a href=\"https://colab.research.google.com/github/uiacap/UIAC_AP_MATH_4012/blob/main/Notes/AP_401_402_6_string_math.ipynb\" target=\"_parent\"><img src=\"https://colab.research.google.com/assets/colab-badge.svg\" alt=\"Open In Colab\"/></a>"
      ]
    },
    {
      "cell_type": "markdown",
      "source": [
        "<div dir=rtl>\n",
        "رشته های در پایتون:\n",
        "</br>\n",
        "برای تعریف کردن رشته در پایتون مقدار رشته را درون \" یا ' قرار می دهیم.\n",
        "</br>\n",
        "عملگر های رشته ها\n",
        "</br>\n",
        "+ :\n",
        "</br>\n",
        "* :\n",
        "</br>\n",
        "in :\n",
        "</br>\n",
        "not int :\n",
        "</div>"
      ],
      "metadata": {
        "id": "yinoGwkPUujZ"
      }
    },
    {
      "cell_type": "code",
      "execution_count": null,
      "metadata": {
        "colab": {
          "base_uri": "https://localhost:8080/"
        },
        "id": "-53pVQWvUnyF",
        "outputId": "2b979fd7-ff78-47b2-939e-739a98ed94e1"
      },
      "outputs": [
        {
          "output_type": "stream",
          "name": "stdout",
          "text": [
            "True\n",
            "False\n"
          ]
        }
      ],
      "source": [
        "s = 'Hello'\n",
        "print('He' in s)\n",
        "print('he' in s)"
      ]
    },
    {
      "cell_type": "markdown",
      "source": [
        "<div dir=rtl>\n",
        "دسترسی به کاراکترهای رشته ها در پایتون:\n",
        "</br>\n",
        " برای دسترسی به کاراکترهای یک رشته می توانیم از ایندکس آن کاراکتر استفاده کنیم.\n",
        " </br>\n",
        " ایندکس کاراکترهای یک رشته از چپ به راست 0 تا یکی کمتر از طول رشته است\n",
        " </br>\n",
        " ایندکس کاراکترهای یک رشته از راست به چپ از -1 تا -طول رشته است.\n",
        " </br>\n",
        " برای دسترسی به کاراکتر های یک رشته از [] استفاده می کنیم و در داخل [] ایندکس کاراکتر مورد نظر را قرار می دهیم. \n",
        "</div>\n"
      ],
      "metadata": {
        "id": "zpPO1onrWA7e"
      }
    },
    {
      "cell_type": "code",
      "source": [
        "s = 'Hello'\n",
        "print(s[1])\n",
        "print(s[2]+s[4])\n",
        "print(s[5]*3)"
      ],
      "metadata": {
        "id": "d4aPxZMkZB42"
      },
      "execution_count": null,
      "outputs": []
    },
    {
      "cell_type": "markdown",
      "source": [
        "<div dir=rtl>\n",
        "در صورتیکه بخواهیم به یک زیر رشته ای از رشته دست پیدا کنیم می توانیم از عملگر : استفاده کنیم\n",
        "</br>\n",
        "s[n:m]\n",
        "</br>\n",
        "زیر رشته ای از s که با ایندکس شماره n شروع شده و با زیر رشته شماره m-1 خاتمه می یابد را به ما می دهد.\n",
        "</div>"
      ],
      "metadata": {
        "id": "YcmGTsJEZNGM"
      }
    },
    {
      "cell_type": "code",
      "source": [
        "s = 'Hi everyone!'\n",
        "#print(s[2:6])\n",
        "#print(s[1:])\n",
        "#print(s[:5])\n",
        "print(s[-7:8])\n",
        "print(s[-7:3])\n",
        "print(s[2:10:2])\n",
        "print(s[:10:2])\n",
        "print(s[::-1])"
      ],
      "metadata": {
        "colab": {
          "base_uri": "https://localhost:8080/"
        },
        "id": "rYTIrkKUZxBm",
        "outputId": "f2fd387f-42c9-4862-bfe2-443a3e9affdf"
      },
      "execution_count": null,
      "outputs": [
        {
          "output_type": "stream",
          "name": "stdout",
          "text": [
            "ery\n",
            "\n",
            " vro\n",
            "H vro\n",
            "!enoyreve iH\n"
          ]
        }
      ]
    },
    {
      "cell_type": "markdown",
      "source": [
        "<div dir=rtl>\n",
        "س : تابعی بنویسید که دو رشته را به عنوان ورودی گرفته و دومی را  وسط اولی قرار دهد.\n",
        "</div>\n"
      ],
      "metadata": {
        "id": "pQrLX4_gepb-"
      }
    },
    {
      "cell_type": "code",
      "source": [
        "def put_between(s1,s2):\n",
        "  cidx = int(len(s1) /2)\n",
        "  return s1[:cidx] + s2 + s1[cidx:]\n",
        "\n",
        "print(put_between(\"abcdefg\", \"111\"))"
      ],
      "metadata": {
        "id": "HmCYKHPOe4bz",
        "colab": {
          "base_uri": "https://localhost:8080/"
        },
        "outputId": "ace582a2-3f98-4c23-a068-27b0cfcd5b64"
      },
      "execution_count": null,
      "outputs": [
        {
          "output_type": "stream",
          "name": "stdout",
          "text": [
            "abc111defg\n"
          ]
        }
      ]
    },
    {
      "cell_type": "code",
      "source": [
        "def put_between(s1,s2):\n",
        "  cidx = int(len(s1) /2)\n",
        "  if len(s1) % 2 == 1:\n",
        "    cidx = cidx + 1\n",
        "  return s1[:cidx] + s2 + s1[cidx:]\n",
        "\n",
        "print(put_between(\"abcdefg\", \"111\"))"
      ],
      "metadata": {
        "colab": {
          "base_uri": "https://localhost:8080/"
        },
        "id": "-2rEcIstFIIn",
        "outputId": "57c12995-f0a1-41f6-fb09-5227197136a2"
      },
      "execution_count": null,
      "outputs": [
        {
          "output_type": "stream",
          "name": "stdout",
          "text": [
            "abcd111efg\n"
          ]
        }
      ]
    },
    {
      "cell_type": "markdown",
      "source": [
        "<div dir =rtl>\n",
        "س : تابعی بنویسید که یک مقدار رشته ای را از ورودی خوانده و در صورتیکه مشخص کننده یک عدد صحیح با علامت درست است، True و در غیراینصورت False برگرداند.\n",
        "</div>"
      ],
      "metadata": {
        "id": "akqBMUeufPaF"
      }
    },
    {
      "cell_type": "markdown",
      "source": [
        "<div dir=rtl>\n",
        "توابع رشته های\n",
        "</br>\n",
        "نوع رشته ، یک کلاس است که برای آن متدهایی تعریف شده است.\n",
        "لیست برخی از این متدها را می توانید در ادامه مشاهده کنید\n",
        "</br>\n",
        "این متدها اعمال مورد نظر را روی روی رشته ای که برای آن صدا زده شده اند، اجرا می کنند\n",
        "</br>\n",
        "در صورتیکه اعمال موزد نظر تابع، طوری باشد که متحویات رشت تغییر می کند، رشته مورد نظر به عنوان خروجی متد برگشت داده می شود.\n",
        "</br>\n",
        "و مقدار رشته ای، متد برای آن صدا زده شده است تغییری نمی کند.\n",
        "زیرا در پایتون رشته ها غیرقابل تغییر هستند.\n",
        "</br>\n",
        "lower() : تمام حروف رشته را به حروف کوچک تبدیل می کند.\n",
        "</br>\n",
        "upper() : تمام حروف رشته به حروف بزرگ تبدیل می کند.\n",
        "</br>\n",
        "isalpha() : در صورتیکه تمام کاراکترهای رشته، حروف الفبا باشند True و در غیر اینصورت False بر می گرداند.\n",
        "</br>\n",
        "isdigit(): در صورتیکه تمام کاراکترهای رشته عدد باشند، True و در غیراینصورت False بر می گرداند.\n",
        "</br>\n",
        "find() : رشته ای را گرفته و مکان اولین تکرار آن در رشته اصلی را بر می گرداند. در صورتیکه رشته را پیدا نکرد، -1 برمی گرداند.\n",
        "</br>\n",
        "replace() : دو رشته را از ورودی گرفته و به جای هر تکرار رشته اول در رشته اصلی، رشته دوم را قرار می دهد.\n",
        "</br>\n",
        "count() : رشته ای را به عنوان ورودی گرفته و تعداد تکرار آنرا در رشته اصلی به عنوان خروجی بر می گرداند.\n",
        "</br>\n",
        "لیست کامل این متدها را می توانید در لینک زیر مشاهده کنید:\n",
        "</br>\n",
        "https://www.w3schools.com/python/python_ref_string.asp\n",
        "</div>"
      ],
      "metadata": {
        "id": "IAZTKlY5bZYn"
      }
    },
    {
      "cell_type": "markdown",
      "source": [],
      "metadata": {
        "id": "9JwerPE8giu3"
      }
    },
    {
      "cell_type": "markdown",
      "source": [
        "<div dir=rtl>\n",
        "س : تابعی بنویسید که یک عدد به صورت رشته را از ورودی دریافت کرده و در صورتیکه نشان دهنده یک عدد اعشاری دارای علامت درست است، True برگرداند.\n",
        "</br>\n",
        "عدد می تواند به صورت زیر باشد:\n",
        "</br>\n",
        "</div>\n",
        "+12 , 12.4, -13.543 , ...\n"
      ],
      "metadata": {
        "id": "z0bWgP_0fyqb"
      }
    },
    {
      "cell_type": "code",
      "source": [
        "\n",
        "\n"
      ],
      "metadata": {
        "id": "iQck5SRQgBaq",
        "colab": {
          "base_uri": "https://localhost:8080/"
        },
        "outputId": "f5240150-ca1a-4266-e441-54ca42ecb301"
      },
      "execution_count": null,
      "outputs": [
        {
          "output_type": "stream",
          "name": "stdout",
          "text": [
            "True\n"
          ]
        }
      ]
    },
    {
      "cell_type": "markdown",
      "source": [
        "<div dir =rtl>\n",
        "برای پیمایش رشته های می توانیم از حلقه for استفاده کنیم.\n",
        "</br>\n",
        "یک روش این است که متغیر حلقه را از 0 تا طول رشته حرکت دهیم.\n",
        "مانند آنچه در ادامه آمده است.\n",
        "</div>"
      ],
      "metadata": {
        "id": "cznoJ7HFhRP1"
      }
    },
    {
      "cell_type": "code",
      "source": [
        "s = 'abcd'\n",
        "for i in range(len(s)) :\n",
        "  print(s[i])"
      ],
      "metadata": {
        "id": "9qYle1F5hj1V",
        "colab": {
          "base_uri": "https://localhost:8080/"
        },
        "outputId": "398de903-267a-457e-b540-2c3380052b4a"
      },
      "execution_count": null,
      "outputs": [
        {
          "output_type": "stream",
          "name": "stdout",
          "text": [
            "a\n",
            "b\n",
            "c\n",
            "d\n"
          ]
        }
      ]
    },
    {
      "cell_type": "markdown",
      "source": [
        "<div dir=rtl>\n",
        "روش دوم پیمایش رشته ها با استفاده دستور for \n",
        "</br>\n",
        "for ch in s :\n",
        "</br>\n",
        "در صورتیکه در دستور بالا s یک متغیر از نوع رشته باشد، \n",
        "متغیر ch در هر بار تکرار حلقه for به ترتیب کاراکترهای s را می پذیرد.\n",
        "</div>"
      ],
      "metadata": {
        "id": "IyG6NoZ_goAR"
      }
    },
    {
      "cell_type": "code",
      "source": [
        "s = 'ABCD'\n",
        "for ch in s :\n",
        "  print(ch)"
      ],
      "metadata": {
        "colab": {
          "base_uri": "https://localhost:8080/"
        },
        "id": "Xx07YdlYwEci",
        "outputId": "86702967-14cb-44e9-d28a-afd9b1af6ed3"
      },
      "execution_count": null,
      "outputs": [
        {
          "output_type": "stream",
          "name": "stdout",
          "text": [
            "A\n",
            "B\n",
            "C\n",
            "D\n"
          ]
        }
      ]
    },
    {
      "cell_type": "markdown",
      "source": [
        "<div dir = rtl>\n",
        "تابعی بنویسید که یک رشته را از ورودی گرفته و مجموع کاراکترهای عددی آنرا را به دست آورد.\n",
        "</div>"
      ],
      "metadata": {
        "id": "-5Ih9pQugHrI"
      }
    },
    {
      "cell_type": "code",
      "source": [
        "def sum_digits(s) :\n",
        "  sd = 0\n",
        "  for ch in s :\n",
        "    if ch.isdigit() :\n",
        "      sd += int(ch)\n",
        "  return sd\n",
        "\n",
        "print(sum_digits(\"cb11fg3\"))\n",
        "\n"
      ],
      "metadata": {
        "id": "xtOZlGCLgVQX",
        "colab": {
          "base_uri": "https://localhost:8080/"
        },
        "outputId": "5d561877-dc05-4352-ada7-e7798ec4b35a"
      },
      "execution_count": null,
      "outputs": [
        {
          "output_type": "stream",
          "name": "stdout",
          "text": [
            "5\n"
          ]
        }
      ]
    },
    {
      "cell_type": "markdown",
      "source": [
        "<div dir=rtl>\n",
        "س: تابعی بنویسید که رشته ای را از ورودی گرفته به جای کاراکترهای غیر عددی آن # قرار دهد.\n",
        "</div>"
      ],
      "metadata": {
        "id": "p3OwQvBjgVkP"
      }
    },
    {
      "cell_type": "code",
      "source": [
        "def replace_not_digit(s) :\n",
        "\n",
        "  for ch in s :\n",
        "    if not ch.isdigit() :\n",
        "      s = s.replace(ch,'#')\n",
        "\n",
        "  return s\n",
        "\n",
        "\n",
        "print(replace_not_digit(\"ZS12^5as\"))"
      ],
      "metadata": {
        "id": "zPIfmJiCtePd",
        "colab": {
          "base_uri": "https://localhost:8080/"
        },
        "outputId": "c0e056da-00ca-4084-ad6a-4b2a5aeab537"
      },
      "execution_count": null,
      "outputs": [
        {
          "output_type": "stream",
          "name": "stdout",
          "text": [
            "##12#5##\n"
          ]
        }
      ]
    },
    {
      "cell_type": "code",
      "source": [
        "def replace_not_digit(s) :\n",
        "  s2 = ''\n",
        "  for ch in s:\n",
        "    if ch.isdigit() :\n",
        "      s2 += ch\n",
        "    else :\n",
        "      s2 += \"#\"\n",
        "\n",
        "  return s2\n",
        "\n",
        "print(replace_not_digit(\"ZS12^5as\"))  "
      ],
      "metadata": {
        "colab": {
          "base_uri": "https://localhost:8080/"
        },
        "id": "fJ_Z-pNcJWSR",
        "outputId": "ddaa260a-b986-4eab-acd8-270f7a859d2a"
      },
      "execution_count": null,
      "outputs": [
        {
          "output_type": "stream",
          "name": "stdout",
          "text": [
            "##12#5##\n"
          ]
        }
      ]
    },
    {
      "cell_type": "markdown",
      "source": [
        "<div dir=rtl>\n",
        "س : تابعی بنویسید که یک رشته را از ورودی گرفته و اگر تعداد حروف بزرگ در رشته بیشتر از حروف کوچک باشد، تمام حروف را به بزرگ و در صورتیکه، تعداد حروف کوچک بیشتر باشد، تمام حروف را به حروف کوچک تبدیل کند.\n",
        "در صورت برابر بودن حروف کوچک و حروف بزرگ، رشته را به حروف کوچک تبدیل کند\n",
        "</div>"
      ],
      "metadata": {
        "id": "XY4_7JFN12d3"
      }
    },
    {
      "cell_type": "code",
      "source": [
        "def change_upper_lower(s) :\n"
      ],
      "metadata": {
        "id": "su71Q9C62aOl"
      },
      "execution_count": null,
      "outputs": []
    },
    {
      "cell_type": "markdown",
      "source": [
        "<div dir=rtl>\n",
        "س: برنامه ای بنویسید که رشته ای را از ورودی گرفته و کاراکترهای غیر حرفی آنرا حذف نمیاد.\n",
        "</div>"
      ],
      "metadata": {
        "id": "jAIXlQ3uyuGa"
      }
    },
    {
      "cell_type": "code",
      "source": [],
      "metadata": {
        "id": "9EgXtNKZy7ge"
      },
      "execution_count": null,
      "outputs": []
    },
    {
      "cell_type": "markdown",
      "source": [
        "<div dir=rtl>\n",
        "برنامه ای بنویسید که تابع count را پیاده سازی کند.\n",
        "</div>"
      ],
      "metadata": {
        "id": "bWgrIJgLte1T"
      }
    },
    {
      "cell_type": "code",
      "source": [
        "def count(s,s1) \n"
      ],
      "metadata": {
        "id": "BuoQo9ucttxU"
      },
      "execution_count": null,
      "outputs": []
    },
    {
      "cell_type": "markdown",
      "source": [
        "<div dir=rtl>\n",
        "برنامه ای بنویسید که تعیین کند یک رشته palindrome هست یا خیر؟\n",
        "</div>"
      ],
      "metadata": {
        "id": "YI5xaGDDxj_y"
      }
    },
    {
      "cell_type": "code",
      "source": [
        "def is_palindrome (s) :\n"
      ],
      "metadata": {
        "id": "uGkWNyWGxy2E"
      },
      "execution_count": null,
      "outputs": []
    },
    {
      "cell_type": "markdown",
      "source": [
        "<div dir=rtl>\n",
        "در یک پایگاه داده اطلاعات به صورت رشته های شامل کارکتر های {a,b,c,d,e} ذخیره می شوند که برای هر یک از این حروف یک معادل عددی نیز در نظر می گیریم. (a=1، b=2, c=3، d=4، e=5). میخواهیم برای هر رشته در پایگاه داده رمزی در نظر بگیریم. که به شکل زیر تعیین می شود:\n",
        "\n",
        "از ابتدای رشته (سمت چپ) شروع کرده و رشته را به بلوک هایی شامل 4 کاراکتر تقسیم می کنیم. در صورتیکه رشته مضربی از 4 نباشد، بلوک آخر دارای تعداد حرف کمتری خواهد بود. به هرکدام از این بلوک ها عددی اختصاص می دهیم، این عدد از حاصل جمع و تفریق (به ترتیب) مقادیر عددی 4 کاراکتر پشت سر هم به دست می آید. (مثلا به رشته abcd عدد a-b+c-d = -2 اختصاص می یابد. در صورتیکه رشته مضربی از 4 نبود، مثلا به رشته bed عدد b-e+d=1 اختصاص می یابد.) در نهایت رمزی که به رشته اختصاص می یاد، ماکزیمم اعداد اختصاص داده شده به بلوک های آن است. از شما خواسته شده که برنامه ای بنویسد که رشته ای از کاراکتر های {a,b,c,d,e} را دریافت کرده و رمز اختصاص داده شده به آن را محاسبه کند.\n",
        "\n",
        "-برای این کار ابتدا تابعی بنویسید که رشته ها به طول 4 یا کمتر را گرفته و عدد آنها را محاسبه کند. سپس با استفاده از این تابع رمز اختصاص داده شده به رشته ورودی را محاسبه کنید.\n",
        "\n",
        "(برای اینکه به راحتی مقادیر عددی کاراکترها به دست آورید می توانید تابعی بنویسید که یک کاراکتر به عنوان ورودی گرفته و خروجی آن مقدار عددی کاراکتر باشد. مثلا تابع به ازای ورودی 'b' مقدار 2 بدهد. )\n",
        "</div>"
      ],
      "metadata": {
        "id": "XSzKyBjcVjAy"
      }
    },
    {
      "cell_type": "code",
      "source": [
        "def char_2_num (ch) :\n",
        "  if ch == 'a' :\n",
        "    return 1\n",
        "  elif ch == \"b\" :\n",
        "    return 2\n",
        "  elif ch == \"c\" :\n",
        "    return 3\n",
        "  elif ch == \"d\" :\n",
        "    return 4\n",
        "  elif ch == \"e\" :\n",
        "    return 5\n",
        "\n",
        "def block_ramz(bl) :\n",
        "  r = 0\n",
        "  sign = 1\n",
        "  for ch in bl :\n",
        "    r += sign * char_2_num(ch) \n",
        "    sign *= -1\n",
        "  return r\n",
        "\n",
        "\n",
        "st = input()\n",
        "max = 0\n",
        "for i in range(0,len(st),4):\n",
        "  bl = st[i:i+4]\n",
        "  r = block_ramz(bl)\n",
        "  if i == 0:\n",
        "    max = r\n",
        "  elif max < r:\n",
        "    max = r\n",
        "\n",
        "print(max)\n",
        "\n",
        "#ebedbdea 4\n",
        "#abeeabc 2"
      ],
      "metadata": {
        "colab": {
          "base_uri": "https://localhost:8080/"
        },
        "id": "HHiB_9g1Vx1o",
        "outputId": "31f44cd3-e86f-46b2-c535-9805e2f693e2"
      },
      "execution_count": null,
      "outputs": [
        {
          "output_type": "stream",
          "name": "stdout",
          "text": [
            "abeeabc\n",
            "2\n"
          ]
        }
      ]
    }
  ]
}
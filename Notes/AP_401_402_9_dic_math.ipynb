{
  "nbformat": 4,
  "nbformat_minor": 0,
  "metadata": {
    "colab": {
      "provenance": [],
      "authorship_tag": "ABX9TyMMtHv2q2aR1SxbJrAUpqWS",
      "include_colab_link": true
    },
    "kernelspec": {
      "name": "python3",
      "display_name": "Python 3"
    },
    "language_info": {
      "name": "python"
    }
  },
  "cells": [
    {
      "cell_type": "markdown",
      "metadata": {
        "id": "view-in-github",
        "colab_type": "text"
      },
      "source": [
        "<a href=\"https://colab.research.google.com/github/uiacap/UIAC_AP_MATH_4012/blob/main/Notes/AP_401_402_9_dic_math.ipynb\" target=\"_parent\"><img src=\"https://colab.research.google.com/assets/colab-badge.svg\" alt=\"Open In Colab\"/></a>"
      ]
    },
    {
      "cell_type": "markdown",
      "source": [
        "<div dir = rtl>\n",
        "dictionary نوعی داده در زبان پایتون است که مانند لیست، تاپل و مجموعه برای ذخیره سازی چند مقدار تحت یک نام به کار می رود.\n",
        "</br>\n",
        "در دیکشنری عناصر مانند لیست و تاپل دارای ایندکس هستند، با این تفاوت که ایندکس ها عدد نیستند و هر مقداری که توسط کاربر تعریف می شود، می توانند باشند.\n",
        "</br>\n",
        "در دیکشنری به جای مقادیر، جفت (کلید : مقدار) داریم.\n",
        "</br>\n",
        "در دیکشنری کلیدها نمی توانند تکرار باشند، ولی مقادیر می توانند تکراری باشند\n",
        "</br>\n",
        "برای ایجاد دیکشنری از {} استفاده می کنیم. که در آن key:value داریم.\n",
        "</br>\n",
        "برای دستری به مقادیر دیکشنری از اینکدس مقدار که همان کلید است، استفاده می کنیم\n",
        "</div>"
      ],
      "metadata": {
        "id": "2VjpmzwnBIyP"
      }
    },
    {
      "cell_type": "code",
      "source": [
        "ages = {\"ali\": 12, \"amir\": 13, \"ali\":13}\n",
        "print(ages[\"ali\"])"
      ],
      "metadata": {
        "id": "4GeXZcFsEBaU",
        "colab": {
          "base_uri": "https://localhost:8080/"
        },
        "outputId": "1e26975d-49e1-465c-ac88-3bd76c1388ae"
      },
      "execution_count": null,
      "outputs": [
        {
          "output_type": "stream",
          "name": "stdout",
          "text": [
            "13\n"
          ]
        }
      ]
    },
    {
      "cell_type": "code",
      "source": [
        "a = dict()\n",
        "a = dict({(\"ali\", 12), (\"amir\", 2.3)})\n",
        "print(type(a))\n",
        "print(a[\"ali\"])\n",
        " \n"
      ],
      "metadata": {
        "id": "kp44GQ22EY83",
        "colab": {
          "base_uri": "https://localhost:8080/"
        },
        "outputId": "9184beb1-a20d-4236-d5e0-b560f01eda6b"
      },
      "execution_count": null,
      "outputs": [
        {
          "output_type": "stream",
          "name": "stdout",
          "text": [
            "<class 'dict'>\n",
            "12\n"
          ]
        }
      ]
    },
    {
      "cell_type": "markdown",
      "source": [
        "<div dir=rtl>\n",
        "برای اضافه کردن یک مقدار با کلید key به دیکشنری d بدین شکل عمل می کنیم\n",
        "</br>\n",
        "d[key] = value\n",
        "</br>\n",
        "در صورتی که key در دیکشنری موجود باشد، مقدار آن تغییر می کند ولی اگر وجود نداشته باشد، به دیکشنری اضافه می شود\n",
        "</div>"
      ],
      "metadata": {
        "id": "o-CyeUqIFCZ_"
      }
    },
    {
      "cell_type": "code",
      "source": [
        "ages = {'ali':17}\n",
        "ages['amir'] = 18\n",
        "\n",
        "print(ages)\n"
      ],
      "metadata": {
        "id": "6kvDsdpFFkWR",
        "colab": {
          "base_uri": "https://localhost:8080/"
        },
        "outputId": "1d63d885-2b57-4208-a3b3-d9540ad35d4c"
      },
      "execution_count": null,
      "outputs": [
        {
          "output_type": "stream",
          "name": "stdout",
          "text": [
            "{'ali': 17, 'amir': 18}\n"
          ]
        }
      ]
    },
    {
      "cell_type": "markdown",
      "source": [
        "<div dir=rtl>\n",
        "عملگر in بررسی می کند آیا کلیدی در دیکشنری هست یا خیر\n",
        "</div>"
      ],
      "metadata": {
        "id": "ugyCFYDEFtmz"
      }
    },
    {
      "cell_type": "code",
      "source": [
        "ages = {\"ali\": 12, \"amir\": 13}\n",
        "\"ali\" in ages"
      ],
      "metadata": {
        "id": "srwKw6h2GCSA"
      },
      "execution_count": null,
      "outputs": []
    },
    {
      "cell_type": "markdown",
      "source": [
        "<div dir=rtl>\n",
        "برای حذف یک مقدار از دیکشنری از pop یا del استفاده می شود\n",
        "</br>\n",
        "در صورتیکه کلید داده شده در دیکشنری نباشد، خطا داده می شود.\n",
        "</div>"
      ],
      "metadata": {
        "id": "eypt6iiVGVVz"
      }
    },
    {
      "cell_type": "code",
      "source": [
        "square = {1: 1, 2: 4, 3: 9, 4: 16}\n",
        "del square[1]\n",
        "print(square)\n",
        "square.pop(4)\n",
        "print(square)"
      ],
      "metadata": {
        "id": "SSlbZu0fGoyF",
        "colab": {
          "base_uri": "https://localhost:8080/"
        },
        "outputId": "78098b48-94a5-4a0e-c38a-94ee05dd309c"
      },
      "execution_count": null,
      "outputs": [
        {
          "output_type": "stream",
          "name": "stdout",
          "text": [
            "{2: 4, 3: 9, 4: 16}\n",
            "{2: 4, 3: 9}\n"
          ]
        }
      ]
    },
    {
      "cell_type": "code",
      "source": [
        "birthdays = {'Alice': 'Apr 1', 'Bob': 'Dec 12', 'Carol': 'Mar 4'}\n",
        "while True:\n",
        "  print('Enter a name: (blank to quit)')\n",
        "  name = input()\n",
        "  if name == '':\n",
        "    break\n",
        "  if name in birthdays:\n",
        "    print(birthdays[name] + ' is the birthday of ' + name)\n",
        "  else:\n",
        "    print('I do not have birthday information for ' + name)\n",
        "    print('What is their birthday?')\n",
        "    bday = input()\n",
        "    birthdays[name] = bday\n",
        "    print('Birthday database updated.')"
      ],
      "metadata": {
        "id": "PXutEW5NJsvn"
      },
      "execution_count": null,
      "outputs": []
    },
    {
      "cell_type": "markdown",
      "source": [
        "<div dir=rtl>\n",
        "برای دسترسی به مقدار یک کلید از دیکشنری d، در صورتیکه به شکل d[key] رفتار کنیم و کلید در دیکشنری نباشد، خطا داده میشود.\n",
        "</br>\n",
        "به جای آن می توانیم از متد getاستفاده کنیم.\n",
        "</br>\n",
        "d.get(key, default)\n",
        "</br>\n",
        "در این حالت، در صورتیکه کلید key در دیکشنری باشد، مقدار آن برگردانده می شود و در صورتیکه در دیکشنری نباشد، مقدار default برگردانده می شود.\n",
        "</div> "
      ],
      "metadata": {
        "id": "vyMlAto7HZYt"
      }
    },
    {
      "cell_type": "code",
      "source": [
        "picnicItems = {'apples': 5, 'cups': 2}\n",
        "print('I am bringing ' + str(picnicItems.get('cups', 0)) + ' cups.')\n",
        "print('I am bringing ' + str(picnicItems.get('eggs', 0)) + ' eggs.')\n",
        "#print('I am bringing ' + str(picnicItems['eggs']) + ' eggs.')"
      ],
      "metadata": {
        "id": "kSl28JFjIXhG",
        "colab": {
          "base_uri": "https://localhost:8080/"
        },
        "outputId": "7d2c60a6-efba-4d69-a521-25f0dd95202b"
      },
      "execution_count": null,
      "outputs": [
        {
          "output_type": "stream",
          "name": "stdout",
          "text": [
            "I am bringing 2 cups.\n",
            "I am bringing 0 eggs.\n"
          ]
        }
      ]
    },
    {
      "cell_type": "markdown",
      "source": [
        "<div dir=rtl>\n",
        "تعریف دیکشنری در دیکشنری\n",
        "</br>\n",
        "تابع totalBrought در برنامه زیر چه عملی را انجام می دهد؟\n",
        "\n",
        "</div>"
      ],
      "metadata": {
        "id": "Ei6oq3QRaqVE"
      }
    },
    {
      "cell_type": "code",
      "source": [
        "allGuests = {'Alice': {'apples': 5, 'pretzels': 12},\n",
        "'Bob': {'ham sandwiches': 3, 'apples': 2},\n",
        "'Carol': {'cups': 3, 'apple pies': 1}}\n",
        "\n",
        "def totalBrought(guests, item):\n",
        "  numBrought = 0\n",
        "  for k, v in guests.items():\n",
        "    numBrought = numBrought + v.get(item, 0)\n",
        "  return numBrought\n",
        "\n",
        "print('Number of things being brought:')\n",
        "print(' - Apples ' + str(totalBrought(allGuests, 'apples')))\n",
        "print(' - Cups ' + str(totalBrought(allGuests, 'cups')))\n",
        "print(' - Cakes ' + str(totalBrought(allGuests, 'cakes')))\n",
        "print(' - Ham Sandwiches ' + str(totalBrought(allGuests, 'ham sandwiches')))\n",
        "print(' - Apple Pies ' + str(totalBrought(allGuests, 'apple pies')))"
      ],
      "metadata": {
        "id": "pM6okU79Vieq"
      },
      "execution_count": null,
      "outputs": []
    },
    {
      "cell_type": "markdown",
      "source": [
        "<div dir=rtl>\n",
        "س: برنامه ای بنویسید که تعدادی کلمه را تا وقتی که کاربر یک خط خالی وارد نکرده است، از کاربر گرفته و پس از آن هر کلمه را به همراه تعداد تکرارهای آن چاپ کند.\n",
        "</div>"
      ],
      "metadata": {
        "id": "0G2WZ3zZKswp"
      }
    },
    {
      "cell_type": "code",
      "source": [
        "rep = {}\n",
        "while True :\n",
        "  word = input()\n",
        "  if word == \"\" :\n",
        "    break\n",
        "  if word in rep :\n",
        "    rep[word] += 1\n",
        "  else :\n",
        "    rep[word] = 1\n",
        "\n",
        "print(rep)\n"
      ],
      "metadata": {
        "id": "cZbI8H81Lgmq",
        "colab": {
          "base_uri": "https://localhost:8080/"
        },
        "outputId": "df1fd553-97fb-4ee8-8bec-b7caa5c5d481"
      },
      "execution_count": null,
      "outputs": [
        {
          "output_type": "stream",
          "name": "stdout",
          "text": [
            "ab\n",
            "ag\n",
            "ab\n",
            "av\n",
            "ag\n",
            "\n",
            "{'ab': 2, 'ag': 2, 'av': 1}\n"
          ]
        }
      ]
    },
    {
      "cell_type": "markdown",
      "source": [
        "<div dir=rtl>\n",
        "متد setdefault\n",
        "</br>\n",
        "یک کلید و یک مقدار پیش فرض  به عنوان ورودی می گیرد. در صورتیکه کلید در دیکشنری موجود نباشد، آنرا ایجاد کرده و مقدار آنرا برابر مقدار پیش فرض قرار داده و مقدار پیش فرض را به عنوان خروجی بر می گرداند.\n",
        "</br>\n",
        "در صورتیکه کلید در دیکشنری موجود باشد، مقدار آنرا بر می گرداند\n",
        "</div>"
      ],
      "metadata": {
        "id": "7GkA3fHAMf60"
      }
    },
    {
      "cell_type": "markdown",
      "source": [
        "<div dir=rtl>\n",
        "س: نوشتن برنامه بالا با استفاده از متد setdefault\n",
        "</div>"
      ],
      "metadata": {
        "id": "z2RbTVnrNHOb"
      }
    },
    {
      "cell_type": "code",
      "source": [
        "rep = {}\n",
        "while True :\n",
        "  word = input()\n",
        "  if word == \"\" :\n",
        "    break\n",
        "  rep.setdefault(word,0)\n",
        "  rep[word] += 1\n",
        "\n",
        "print(rep)\n"
      ],
      "metadata": {
        "id": "CmiHpqvGNOm7"
      },
      "execution_count": null,
      "outputs": []
    },
    {
      "cell_type": "markdown",
      "source": [
        "<div dir=rtl>\n",
        "س: برنامه ای بنویسید که یک پیام را از کاربر گرفته و تعداد کاراکترهای آنرا شمرده و چاپ کند\n",
        "</div>"
      ],
      "metadata": {
        "id": "OW0_Ch53Klo5"
      }
    },
    {
      "cell_type": "code",
      "source": [],
      "metadata": {
        "id": "haM--39XNxmK"
      },
      "execution_count": null,
      "outputs": []
    },
    {
      "cell_type": "markdown",
      "source": [
        "<div dir=rtl>\n",
        "در صورتیکه بخواهیم یک دیکشنری را از مقادیر یک لیست بسازیم\n",
        "</br>\n",
        "از متد fromkeys در دیکشنری استفاده می کنیم.\n",
        "و به عنوان ورودی به آن لیست کلید ها و یک مقدار که به عنوان مقدار هر کلید قرار می گیرد، می دهیم\n",
        "</div>"
      ],
      "metadata": {
        "id": "QvB26Iz2gE6c"
      }
    },
    {
      "cell_type": "code",
      "source": [
        "marks = {}.fromkeys(['Math','English','Science'], 0)\n",
        "print(marks)"
      ],
      "metadata": {
        "id": "7xWoYRFCgM3u",
        "colab": {
          "base_uri": "https://localhost:8080/"
        },
        "outputId": "5ecb4f84-d192-4f42-e52f-c6fc831fe9aa"
      },
      "execution_count": null,
      "outputs": [
        {
          "output_type": "stream",
          "name": "stdout",
          "text": [
            "{'Math': 0, 'English': 0, 'Science': 0}\n"
          ]
        }
      ]
    },
    {
      "cell_type": "markdown",
      "source": [
        "<div dir=rtl>\n",
        "پیمایش دیکشنری:\n",
        "</br>\n",
        "با استفاده از متدهای keys, values, items\n",
        "</div>"
      ],
      "metadata": {
        "id": "qo69rzkaNx4s"
      }
    },
    {
      "cell_type": "code",
      "source": [
        "ages = {\"ali\": 12, \"amir\": 13, \"hassan\":11}\n",
        "for k in ages :\n",
        "  print(f\"{k} : {ages[k]}\")"
      ],
      "metadata": {
        "id": "useHlN7EOCAa",
        "colab": {
          "base_uri": "https://localhost:8080/"
        },
        "outputId": "84975ed5-5528-449f-d6b4-ce8929ef3f3d"
      },
      "execution_count": null,
      "outputs": [
        {
          "output_type": "stream",
          "name": "stdout",
          "text": [
            "ali : 12\n",
            "amir : 13\n",
            "hassan : 11\n"
          ]
        }
      ]
    },
    {
      "cell_type": "code",
      "source": [
        "ages = {\"ali\": 12, \"amir\": 13, \"hassan\":11}\n",
        "for v in ages.values() :\n",
        "  print(v)"
      ],
      "metadata": {
        "colab": {
          "base_uri": "https://localhost:8080/"
        },
        "id": "6_PPDa2AOe1V",
        "outputId": "7d290bce-b086-4bc1-b454-6f3fd3527ac7"
      },
      "execution_count": null,
      "outputs": [
        {
          "output_type": "stream",
          "name": "stdout",
          "text": [
            "12\n",
            "13\n",
            "11\n"
          ]
        }
      ]
    },
    {
      "cell_type": "code",
      "source": [
        "ages = {\"ali\": 12, \"amir\": 13, \"hassan\":11}\n",
        "#for item in ages.items() :\n",
        "#  print(type(item))\n",
        "#  print(item)\n",
        "\n",
        "for key,val in ages.items() :\n",
        "  print(f\"key ={key} , value={val}\")\n",
        "\n",
        "for i in ages.items() :\n",
        "  print(type(i))\n",
        "  print(i[0],i[1])\n"
      ],
      "metadata": {
        "id": "TKHMJCFKOl68"
      },
      "execution_count": null,
      "outputs": []
    },
    {
      "cell_type": "code",
      "source": [
        "ages = {\"ali\": 12, \"amir\": 13, \"hassan\":11}\n",
        "for item in enumerate(ages) :\n",
        "  print(item)\n"
      ],
      "metadata": {
        "id": "sb0dyp4sOw9o"
      },
      "execution_count": null,
      "outputs": []
    },
    {
      "cell_type": "markdown",
      "source": [
        "<div dir = rtl>\n",
        "فرض کنید میخواهید یک بازی بنویسید و هر بازیکن شما مجموعه ای از دارایی ها را دارد\n",
        "</br>\n",
        "دارایی های بازیکن را در یک دیکشنری ذخیره کرده اید.\n",
        "که در آن کلید ، نام دارایی و مقدار، تعداد آن است.\n",
        "</br>\n",
        "تابعی به نام display_inventory(inventory) بنویسید \n",
        "</br>\n",
        "که به عنوان ورودی، دیکشنری دارایی ها را دریافت کرده مانند زیر آنرا نمایش دهد.\n",
        "</br>\n",
        "\n",
        "</br>\n",
        "</div>\n",
        "{'rope': 1, 'torch': 6, 'gold coin': 42, 'dagger': 1, 'arrow': 12}\n",
        "</br>\n",
        "Inventory:\n",
        "</br>\n",
        "12 arrow\n",
        "</br>\n",
        "1 dagger\n",
        "</br>\n",
        "...\n",
        "</br>\n",
        "Total number of items: 62"
      ],
      "metadata": {
        "id": "fr0tGBGUXM15"
      }
    },
    {
      "cell_type": "code",
      "source": [
        "def display_inventory(inventory):\n",
        "  s = 0\n",
        "  for k,v in inventory.items() :\n",
        "    print(v,k)\n",
        "    s += v\n",
        "  print(f\"Total number of items: {s}\")\n",
        "\n",
        "d = {'rope': 1, 'torch': 6, 'gold coin': 42, 'dagger': 1, 'arrow': 12}\n",
        "display_inventory(d)\n"
      ],
      "metadata": {
        "id": "oQ3toZsWXZBo",
        "colab": {
          "base_uri": "https://localhost:8080/"
        },
        "outputId": "c8984d7d-89ba-4337-9a82-1d7bbca88678"
      },
      "execution_count": null,
      "outputs": [
        {
          "output_type": "stream",
          "name": "stdout",
          "text": [
            "1 rope\n",
            "6 torch\n",
            "42 gold coin\n",
            "1 dagger\n",
            "12 arrow\n",
            "Total number of items: 62\n"
          ]
        }
      ]
    },
    {
      "cell_type": "markdown",
      "source": [
        "<div dir=rtl>\n",
        "در صورتیکه بخواهیم تابع دارایی ها را مرتب شده نشان دهد، تابع را چگونه پیاده سازی می کنید\n",
        "</div>"
      ],
      "metadata": {
        "id": "NB517QnQYfLk"
      }
    },
    {
      "cell_type": "code",
      "source": [
        "def display_inventory(inventory):\n",
        "  s = 0\n",
        "  kl = list(inventory.keys())\n",
        "  kl.sort()\n",
        "  for k in kl :\n",
        "    print(inventory[k],k)\n",
        "    s += inventory[k]\n",
        "  print(f\"Total number of items: {s}\")\n",
        "\n",
        "d = {'rope': 1, 'torch': 6, 'gold coin': 42, 'dagger': 1, 'arrow': 12}\n",
        "display_inventory(d)\n"
      ],
      "metadata": {
        "id": "NeooGFosYtwS",
        "colab": {
          "base_uri": "https://localhost:8080/"
        },
        "outputId": "56d18e5e-c1be-4a48-c26d-5bae4fe233a2"
      },
      "execution_count": null,
      "outputs": [
        {
          "output_type": "stream",
          "name": "stdout",
          "text": [
            "12 arrow\n",
            "1 dagger\n",
            "42 gold coin\n",
            "1 rope\n",
            "6 torch\n",
            "Total number of items: 62\n"
          ]
        }
      ]
    },
    {
      "cell_type": "code",
      "source": [
        "def all_keys(di, val) :\n",
        "  l = []\n",
        "  for k,v in di.items() :\n",
        "    if v == val :\n",
        "      l.append(k)\n",
        "  return l\n",
        "\n",
        "def display_inventory(inventory):\n",
        "  s = 0\n",
        "  vl = list(inventory.values())  #[1,6,6,1,12]\n",
        "  vl.sort()\n",
        "  seenv = []\n",
        "  for v in vl :\n",
        "    if v not in seenv :\n",
        "      kl = all_keys(inventory, v)\n",
        "      for k in kl :\n",
        "        print(inventory[k],k)\n",
        "        s += inventory[k]\n",
        "      seenv.append(v)\n",
        "  print(f\"Total number of items: {s}\")\n",
        "\n",
        "d = {'rope': 1, 'torch': 6, 'gold coin': 6, 'dagger': 1, 'arrow': 12}\n",
        "display_inventory(d)"
      ],
      "metadata": {
        "colab": {
          "base_uri": "https://localhost:8080/"
        },
        "id": "hwgHICdBS4Zh",
        "outputId": "8677cca4-fc2e-4d5d-c386-c16408327e90"
      },
      "execution_count": null,
      "outputs": [
        {
          "output_type": "stream",
          "name": "stdout",
          "text": [
            "1 rope\n",
            "1 dagger\n",
            "6 torch\n",
            "6 gold coin\n",
            "12 arrow\n",
            "Total number of items: 26\n"
          ]
        }
      ]
    },
    {
      "cell_type": "markdown",
      "source": [
        "<div dir=rtl>\n",
        "س: پیاده سازی بازی tic tac toe با استفاده از dictionary\n",
        "</div>"
      ],
      "metadata": {
        "id": "ui0rVFnGP5M6"
      }
    },
    {
      "cell_type": "code",
      "source": [
        "the_board = {'top-L': 'X', 'top-M': ' ', 'top-R': ' ',\n",
        "'mid-L': ' ', 'mid-M': ' ', 'mid-R': ' ',\n",
        "'low-L': ' ', 'low-M': ' ', 'low-R': 'O'}\n",
        "\n",
        "def print_board(board) :\n",
        "  print(board['top-L'] + '|' + board['top-M'] + '|' + board['top-R'])\n",
        "  print('-+-+-')\n",
        "  print(board['mid-L'] + '|' + board['mid-M'] + '|' + board['mid-R'])\n",
        "  print('-+-+-')\n",
        "  print(board['low-L'] + '|' + board['low-M'] + '|' + board['low-R'])\n",
        "\n",
        "def get_input() :\n",
        "  pass\n",
        "\n",
        "def is_win(the_board, turn):\n",
        "  pass\n",
        "\n",
        "def system_choice(board):\n",
        "  pass\n",
        "\n",
        "\n",
        "print_board(the_board)"
      ],
      "metadata": {
        "id": "QuR_X8tLQFml",
        "colab": {
          "base_uri": "https://localhost:8080/"
        },
        "outputId": "f997545e-a1db-481f-ba14-eb38d3308872"
      },
      "execution_count": null,
      "outputs": [
        {
          "output_type": "stream",
          "name": "stdout",
          "text": [
            "X| | \n",
            "-+-+-\n",
            " | | \n",
            "-+-+-\n",
            " | |O\n"
          ]
        }
      ]
    },
    {
      "cell_type": "markdown",
      "source": [
        "<div dir=rtl>\n",
        "متدهای ماژول random\n",
        "</br>\n",
        "</div>\n",
        "choice()\n",
        "</br>\n",
        "choices()\n",
        "</br>\n",
        "shuffle()\n",
        "</br>\n",
        "sample()\n",
        "</br>"
      ],
      "metadata": {
        "id": "VLGNKapIQv4E"
      }
    },
    {
      "cell_type": "code",
      "source": [
        "import random\n",
        "mylist = [\"apple\", \"banana\", \"cherry\"]\n",
        "random.shuffle(mylist)\n",
        "print(mylist)\n"
      ],
      "metadata": {
        "id": "uLyFP67iSiso",
        "colab": {
          "base_uri": "https://localhost:8080/"
        },
        "outputId": "5d44cd39-edb3-43ea-e765-b47cd86e66a9"
      },
      "execution_count": null,
      "outputs": [
        {
          "output_type": "stream",
          "name": "stdout",
          "text": [
            "['cherry', 'apple', 'banana']\n"
          ]
        }
      ]
    },
    {
      "cell_type": "code",
      "source": [
        "import random\n",
        "mylist = [\"apple\", \"banana\", \"cherry\"]\n",
        "print(random.choice(mylist))"
      ],
      "metadata": {
        "colab": {
          "base_uri": "https://localhost:8080/"
        },
        "id": "wiNmIR-ySrSm",
        "outputId": "abde9b67-f3ac-44fe-b946-3c2c2a8d396d"
      },
      "execution_count": null,
      "outputs": [
        {
          "output_type": "stream",
          "name": "stdout",
          "text": [
            "banana\n"
          ]
        }
      ]
    },
    {
      "cell_type": "code",
      "source": [
        "import random\n",
        "\n",
        "mylist = [\"apple\", \"banana\", \"cherry\"]\n",
        "\n",
        "print(random.choices(mylist, weights = [10, 1, 1]))\n"
      ],
      "metadata": {
        "colab": {
          "base_uri": "https://localhost:8080/"
        },
        "id": "Ur13I20lTDeB",
        "outputId": "49d7b632-132a-403c-87fe-38e8aa25a1c9"
      },
      "execution_count": null,
      "outputs": [
        {
          "output_type": "stream",
          "name": "stdout",
          "text": [
            "['apple']\n"
          ]
        }
      ]
    },
    {
      "cell_type": "code",
      "source": [
        "import random\n",
        "\n",
        "mylist = [\"apple\", \"banana\", \"cherry\"]\n",
        "\n",
        "print(random.sample(mylist, k=2))"
      ],
      "metadata": {
        "colab": {
          "base_uri": "https://localhost:8080/"
        },
        "id": "m2peMw99TVoz",
        "outputId": "463b51bd-2f9c-4c4c-ad0c-c8d4378ea926"
      },
      "execution_count": null,
      "outputs": [
        {
          "output_type": "stream",
          "name": "stdout",
          "text": [
            "['banana', 'apple']\n"
          ]
        }
      ]
    },
    {
      "cell_type": "markdown",
      "source": [
        "<div dir =rtl>\n",
        "تابعی بنویسید که به عنوان ورودی یک دیکشنری و یک مقدار بگیرد و تمام کلید های دیکشنری که آن مقدار را دارند برگرداند\n",
        "</div>"
      ],
      "metadata": {
        "id": "AQGrazHZML-E"
      }
    },
    {
      "cell_type": "code",
      "source": [
        "def all_keys(di, val) :\n",
        "  l = []\n",
        "  for k,v in di.items() :\n",
        "    if v == val :\n",
        "      l.append(k)\n",
        "  return l\n",
        "\n",
        "d = {\"na\":12, \"nab\":12, \"bc\" :11, \"ba\":12}\n",
        "print(all_keys(d, 12))\n"
      ],
      "metadata": {
        "colab": {
          "base_uri": "https://localhost:8080/"
        },
        "id": "XnhvAmShMdrb",
        "outputId": "73d372e4-9e05-4fde-b4af-02965c4a4f1d"
      },
      "execution_count": null,
      "outputs": [
        {
          "output_type": "stream",
          "name": "stdout",
          "text": [
            "['na', 'nab', 'ba']\n"
          ]
        }
      ]
    },
    {
      "cell_type": "markdown",
      "source": [],
      "metadata": {
        "id": "0fZ6ErrUWD3H"
      }
    }
  ]
}
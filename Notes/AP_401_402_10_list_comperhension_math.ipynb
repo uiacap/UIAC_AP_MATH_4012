{
  "nbformat": 4,
  "nbformat_minor": 0,
  "metadata": {
    "colab": {
      "provenance": [],
      "authorship_tag": "ABX9TyNjSbZDbq4BsuRORL7ylh8i",
      "include_colab_link": true
    },
    "kernelspec": {
      "name": "python3",
      "display_name": "Python 3"
    },
    "language_info": {
      "name": "python"
    }
  },
  "cells": [
    {
      "cell_type": "markdown",
      "metadata": {
        "id": "view-in-github",
        "colab_type": "text"
      },
      "source": [
        "<a href=\"https://colab.research.google.com/github/uiacap/UIAC_AP_MATH_4012/blob/main/Notes/AP_401_402_10_list_comperhension_math.ipynb\" target=\"_parent\"><img src=\"https://colab.research.google.com/assets/colab-badge.svg\" alt=\"Open In Colab\"/></a>"
      ]
    },
    {
      "cell_type": "markdown",
      "source": [
        "<div dir=rtl>\n",
        "با استفاده از list comperhension یا معرف لیست می توانیم لیست را بر اساس الگوی خاصی یا از روی لیست های دیگر بسازیم\n",
        "</div>"
      ],
      "metadata": {
        "id": "N8PMGyWrZ16y"
      }
    },
    {
      "cell_type": "code",
      "execution_count": null,
      "metadata": {
        "id": "eeXgM-BJZUjC",
        "colab": {
          "base_uri": "https://localhost:8080/"
        },
        "outputId": "d3d505c9-6953-44c7-e9f7-01203a3f0539"
      },
      "outputs": [
        {
          "output_type": "stream",
          "name": "stdout",
          "text": [
            "[1, 8, 27, 64, 125, 216, 343, 512, 729, 1000]\n"
          ]
        }
      ],
      "source": [
        "qubes = []  # 1 8 27 ..., 1000\n",
        "for x in range(1,11):\n",
        "  qubes.append(x**3)\n",
        "print(qubes)"
      ]
    },
    {
      "cell_type": "code",
      "source": [
        "qubes = [x**3 for x in range(1,11)]\n",
        "print(qubes)"
      ],
      "metadata": {
        "id": "S9Vt8CRdaqa4",
        "colab": {
          "base_uri": "https://localhost:8080/"
        },
        "outputId": "e0e7527d-b85a-4ffb-cc14-6e5a92ce9102"
      },
      "execution_count": null,
      "outputs": [
        {
          "output_type": "stream",
          "name": "stdout",
          "text": [
            "[1, 8, 27, 64, 125, 216, 343, 512, 729, 1000]\n"
          ]
        }
      ]
    },
    {
      "cell_type": "markdown",
      "source": [
        "<div dir=rtl>\n",
        "در یک معرف لیست، ابتدا یک عبارت داده می شود که لیست بر اساس آن عبارت ساخته می شود.\n",
        "</br>\n",
        "در صورتیکه عبارت شامل متغیر باشد، پس از دادن عبارت باید تعیین کنید که از چه رنجی انتحاب شود که این کار را به دستور for و ifمی توان انجام داد.\n",
        "</dir>"
      ],
      "metadata": {
        "id": "2fFj-LX5a-Zi"
      }
    },
    {
      "cell_type": "code",
      "source": [
        "l = [2*x for x in range(5)]\n",
        "print(l)"
      ],
      "metadata": {
        "id": "RBlLdpwUbYdB",
        "colab": {
          "base_uri": "https://localhost:8080/"
        },
        "outputId": "6390edb2-5045-46a9-ac2c-a2b464111008"
      },
      "execution_count": null,
      "outputs": [
        {
          "output_type": "stream",
          "name": "stdout",
          "text": [
            "[0, 2, 4, 6, 8]\n"
          ]
        }
      ]
    },
    {
      "cell_type": "code",
      "source": [
        "print([x+y for x in range(10) for y in range(5)])"
      ],
      "metadata": {
        "id": "xl5kS-jRbcVW",
        "colab": {
          "base_uri": "https://localhost:8080/"
        },
        "outputId": "b905a7b8-a84a-440e-cfa9-7cf29052228b"
      },
      "execution_count": null,
      "outputs": [
        {
          "output_type": "stream",
          "name": "stdout",
          "text": [
            "[0, 1, 2, 3, 4, 1, 2, 3, 4, 5, 2, 3, 4, 5, 6, 3, 4, 5, 6, 7, 4, 5, 6, 7, 8, 5, 6, 7, 8, 9, 6, 7, 8, 9, 10, 7, 8, 9, 10, 11, 8, 9, 10, 11, 12, 9, 10, 11, 12, 13]\n"
          ]
        }
      ]
    },
    {
      "cell_type": "code",
      "source": [
        "print([str(x)+y for x in [1,2,3] for y in ['A','B']])"
      ],
      "metadata": {
        "id": "GxQY6rSfcHbb",
        "colab": {
          "base_uri": "https://localhost:8080/"
        },
        "outputId": "2f5d5d7b-2621-42b1-c6d2-fcbe4ac39d15"
      },
      "execution_count": null,
      "outputs": [
        {
          "output_type": "stream",
          "name": "stdout",
          "text": [
            "['1A', '1B', '2A', '2B', '3A', '3B']\n"
          ]
        }
      ]
    },
    {
      "cell_type": "code",
      "source": [
        "[(x, y) for x in [1, 2, 3] for y in [1, 2, 3] if x != y]"
      ],
      "metadata": {
        "id": "JVvqDKa0a97J",
        "colab": {
          "base_uri": "https://localhost:8080/"
        },
        "outputId": "162e50ca-a5ad-4964-f1c3-220a4b0b6d17"
      },
      "execution_count": null,
      "outputs": [
        {
          "output_type": "execute_result",
          "data": {
            "text/plain": [
              "[(1, 2), (1, 3), (2, 1), (2, 3), (3, 1), (3, 2)]"
            ]
          },
          "metadata": {},
          "execution_count": 7
        }
      ]
    },
    {
      "cell_type": "markdown",
      "source": [
        "<div dir=rtl>\n",
        "لیستی تولید کنید که به ازای مقادیر مثبت data، 2^x را تولید کند.\n",
        "</div>"
      ],
      "metadata": {
        "id": "Z_YDZm8jeYq9"
      }
    },
    {
      "cell_type": "code",
      "source": [
        "data = [10, -4, 53, 122, 0]\n",
        "datap = [x for x in data if x >0 ]\n",
        "print(datap)"
      ],
      "metadata": {
        "id": "sOE_pkk1cjxz",
        "colab": {
          "base_uri": "https://localhost:8080/"
        },
        "outputId": "37b23e3d-a911-438c-cece-bf6bc2b67d63"
      },
      "execution_count": null,
      "outputs": [
        {
          "output_type": "stream",
          "name": "stdout",
          "text": [
            "[10, 53, 122]\n"
          ]
        }
      ]
    },
    {
      "cell_type": "code",
      "source": [
        "fruits = [\"apple\", \"banana\", \"cherry\", \"kiwi\", \"mango\"]\n",
        "print([x.upper() for x in fruits])\n",
        "newlist = [x for x in fruits if 'a' in x]\n",
        "print(newlist)"
      ],
      "metadata": {
        "id": "TYU-E5Xngv2h"
      },
      "execution_count": null,
      "outputs": []
    },
    {
      "cell_type": "markdown",
      "source": [
        "<div dir=rtl>\n",
        "لیست های تو در تو\n",
        "</br>\n",
        "آرایه های چند بعدی و ماتریس ها را می توان با استفاده از لیست های تو در تو ساخت\n",
        "</div>"
      ],
      "metadata": {
        "id": "UeCcDkYaczas"
      }
    },
    {
      "cell_type": "code",
      "source": [
        "m = [[1, 2, 3], [4, 5, 6], [7, 8, 9]]\n",
        "for i in range(3):\n",
        "  for j in range(3):\n",
        "    print(m[i][j], end=' ')\n",
        "  print()                                                                                                                                                                                                                                                                                                                                                                                                                                                                                                                                                                                                                                                                                                                                                                                                                                                                                                                                                                                                                                                                                                                                                                                                                                                            "
      ],
      "metadata": {
        "id": "s4T2_X3tdZy_"
      },
      "execution_count": null,
      "outputs": []
    },
    {
      "cell_type": "code",
      "source": [
        "m = [[i for i in range(1,4)], [i for i in range(4,7)], [i for i in range(7,10)]]\n",
        "print(m)\n",
        "\n"
      ],
      "metadata": {
        "id": "kmm8f7sshKWP",
        "colab": {
          "base_uri": "https://localhost:8080/"
        },
        "outputId": "1e312219-57f7-4a6b-e4db-8575488e8935"
      },
      "execution_count": null,
      "outputs": [
        {
          "output_type": "stream",
          "name": "stdout",
          "text": [
            "[[1, 2, 3], [4, 5, 6], [7, 8, 9]]\n"
          ]
        }
      ]
    },
    {
      "cell_type": "markdown",
      "source": [
        "<div dir=rtl>\n",
        "یک ماتریس دارای m سطرو n ستون با مقادیر اولیه 0\n",
        "</div>"
      ],
      "metadata": {
        "id": "x-cWTrntZ8lU"
      }
    },
    {
      "cell_type": "code",
      "source": [
        "m = 3\n",
        "n = 3\n",
        "\n",
        "mat = [[0 for x in range(n)]for y in range(m)]\n",
        "print(mat)\n",
        "\n",
        "mat2 = [[0]*n for i in range(m)]\n",
        "print(mat2)"
      ],
      "metadata": {
        "id": "5nAkzzJMe3Wh",
        "colab": {
          "base_uri": "https://localhost:8080/"
        },
        "outputId": "7b7bfb9d-dafb-483b-8c45-545b9550345e"
      },
      "execution_count": null,
      "outputs": [
        {
          "output_type": "stream",
          "name": "stdout",
          "text": [
            "[[0, 0, 0], [0, 0, 0], [0, 0, 0]]\n",
            "[[0, 0, 0], [0, 0, 0], [0, 0, 0]]\n"
          ]
        }
      ]
    },
    {
      "cell_type": "markdown",
      "source": [],
      "metadata": {
        "id": "2jJK6KyXbXfY"
      }
    },
    {
      "cell_type": "markdown",
      "source": [
        "<div dir=rtl>\n",
        "یک لیست بسازید که شامل جایگشت های مختلف 1 تا 3 باشد.\n",
        "</div>"
      ],
      "metadata": {
        "id": "6iOGdbTNfwET"
      }
    },
    {
      "cell_type": "code",
      "source": [],
      "metadata": {
        "id": "pyM9PXhehfQr",
        "colab": {
          "base_uri": "https://localhost:8080/"
        },
        "outputId": "eaf3c2f7-9e72-4ecb-fa08-1c2cceecc83e"
      },
      "execution_count": null,
      "outputs": [
        {
          "output_type": "stream",
          "name": "stdout",
          "text": [
            "[(1, 2, 3), (1, 3, 2), (2, 1, 3), (2, 3, 1), (3, 1, 2), (3, 2, 1)]\n"
          ]
        }
      ]
    },
    {
      "cell_type": "markdown",
      "source": [],
      "metadata": {
        "id": "DjqWwBlffgks"
      }
    }
  ]
}
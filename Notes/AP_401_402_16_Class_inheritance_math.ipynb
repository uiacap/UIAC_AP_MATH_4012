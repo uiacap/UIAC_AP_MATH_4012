{
  "cells": [
    {
      "cell_type": "markdown",
      "metadata": {
        "id": "view-in-github",
        "colab_type": "text"
      },
      "source": [
        "<a href=\"https://colab.research.google.com/github/uiacap/UIAC_AP_MATH_4012/blob/main/Notes/AP_401_402_16_Class_inheritance_math.ipynb\" target=\"_parent\"><img src=\"https://colab.research.google.com/assets/colab-badge.svg\" alt=\"Open In Colab\"/></a>"
      ]
    },
    {
      "cell_type": "markdown",
      "metadata": {
        "id": "b0VB6EaMF4-L"
      },
      "source": [
        "<div dir=rtl>\n",
        "در ارث‌بری یک کلاس می‌تواند تمام ویژگی‌ها، شامل توابع و متغیرهایی که در یک کلاس دیگر تعریف شده‌اند را به خودش انتقال دهد. در این عملیات به کلاسی که ويژگی‌ها را می‌گیرد فرزند و به کلاسی که ویژگی‌ها را می‌دهد پدر می‌گویند.\n",
        "</br>\n",
        "در کد زیر، Person کلاس پدر است و کلاس Student از آن ارث برده است.\n",
        "</br>\n",
        "برای ارث‌بری در پایتون کافی‌ست در زمان تعریف کلاس فرزند، نام کلاس پدر را به عنوان ورودی به فرزند بدهیم. توجه کنید که برای این کار کلاس پدر حتما باید قبل از کلاس فرزند تعریف شده‌‌باشد. همچنین اگر برای یک کلاس پدری مشخص نکنیم، به طور پیش‌فرض object به‌عنوان پدرش در نظر گرفته می‌شود.\n",
        "</dir>"
      ]
    },
    {
      "cell_type": "code",
      "execution_count": null,
      "metadata": {
        "id": "fBEiGCdnFwkM",
        "colab": {
          "base_uri": "https://localhost:8080/"
        },
        "outputId": "c0564f17-1067-4ef6-ffd1-44f8db60c691"
      },
      "outputs": [
        {
          "output_type": "stream",
          "name": "stdout",
          "text": [
            "123\n",
            "ali\n"
          ]
        }
      ],
      "source": [
        "class UniversityMember:\n",
        "    def __init__(self, name=\"no name\"):\n",
        "      if len(name) != 0 :\n",
        "        self.name = name\n",
        "      else :\n",
        "        self.name = 'no name'\n",
        "\n",
        "\n",
        "class Student(UniversityMember):\n",
        "  pass\n",
        "  def __init__(self,n,stnum) :\n",
        "    self.stnum = stnum\n",
        "    UniversityMember.__init__(self,n)\n",
        "  \n",
        "    #def __init__(self, stnumber):\n",
        "    #    self.st_number = stnumber\n",
        "    #    Person.__init__(self)\n",
        "\n",
        "s = Student('ali',123)\n",
        "print(s.stnum)\n",
        "print(s.name)\n"
      ]
    },
    {
      "cell_type": "markdown",
      "metadata": {
        "id": "EKx8ap8IF4ZN"
      },
      "source": [
        "<div dir=rtl>\n",
        "برای مثال فرض کنید می‌خواهیم کلاس‌های مربوط به دانشجو، استاد، کارمند را پیاده‌سازی کنیم. این سه تعدادی ویژگی یکسان مانند کدملی و نام دارند. اگر بخواهیم به ازای هر کدام این ویژگی ها را تعریف کنیم، باعث می‌شود کد تا حد زیادی تکراری شود و در صورتی که بخواهیم یک تکه از کد را تغییر دهیم، مجبوریم چند جا از کد را تغییر دهیم؛ همچنین کدی که نوشته‌ایم، استانداردهای کد تمیز (clean-code) را نخواهد داشت. به همین علت بهتر است که ابتدا یک کلاس ‍‍Person داشته‌باشیم که شامل ویژگی‌های مشترک باشد که کلاس‌های Employee و Professor و Student از آن ارث ببرند.\n",
        "هر سه کلاس از آن ارث می‌برند. ‍‍‍\n",
        "</div>"
      ]
    },
    {
      "cell_type": "code",
      "execution_count": null,
      "metadata": {
        "id": "k9i41KnhIEDa"
      },
      "outputs": [],
      "source": []
    },
    {
      "cell_type": "code",
      "execution_count": null,
      "metadata": {
        "colab": {
          "base_uri": "https://localhost:8080/"
        },
        "id": "fxosyPAoIR9J",
        "outputId": "f6065257-d043-4f7b-8c95-a16442a3f931"
      },
      "outputs": [
        {
          "output_type": "stream",
          "name": "stdout",
          "text": [
            "Ali\n",
            "1234\n"
          ]
        }
      ],
      "source": [
        "class Person:\n",
        "    def __init__(self, name=\"no name\"):\n",
        "        self.name = name\n",
        "\n",
        "class Student(Person):\n",
        "    def __init__(self, name, stnumber):\n",
        "        self.st_number = stnumber\n",
        "        super().__init__(name)\n",
        "        \n",
        "\n",
        "st = Student(\"Ali\", 1234)\n",
        "print(st.name)\n",
        "print(st.st_number)\n"
      ]
    },
    {
      "cell_type": "markdown",
      "source": [
        "<div dir=rtl>\n",
        "چهار کلاس ، UniversityMember, Student, Employee و Professor را پیاده سازی کنید.\n",
        "</br>\n",
        "Studentو Professor , ٍEmployee هر سه نوعی UniversityMember هستند.\n",
        "</br>\n",
        "Professor نوعی Employee است.\n",
        "</br>\n",
        "UniversityMember دو ویژگی icode, name دارد.\n",
        "</br>\n",
        "همه کلاس ها یک تابع who_are_you دارند که هنگامی که call می شود باید یک عبارت متناسب با نام شی و نوع آن چاپ شود.\n",
        "</br>\n",
        "مثلا برای کلاس Professor که نام آن ali است، چاپ کند، \n",
        "</br>\n",
        "I am a Professor\n",
        "</br>\n",
        "I am an Employee\n",
        "</br>\n",
        "I am a University member\n",
        "</br>\n",
        "my name is Ali.\n",
        "</div>"
      ],
      "metadata": {
        "id": "Fq5Vp3Wf_YbS"
      }
    },
    {
      "cell_type": "code",
      "source": [
        "class UniversityMember :\n",
        "  def __init__(self, name, icode) :\n",
        "    self.name = name\n",
        "    self.icode = icode\n",
        "  def who_are_you(self):\n",
        "    print(\"I am a University Member\")\n",
        "    print(\"My name's \"+self.name)\n",
        "\n",
        "class Student(UniversityMember) :\n",
        "  def who_are_you(self) :\n",
        "    print(\"I am a srudent\")\n",
        "    super().who_are_you()\n",
        "\n",
        "class Employee(UniversityMember) :\n",
        "  def who_are_you(self):\n",
        "    print(\"I am a Employee\")\n",
        "    super().who_are_you()\n",
        "\n",
        "class Professor(Employee) :\n",
        "  def who_are_you(self) :\n",
        "    print(\"I am professor\")\n",
        "    super().who_are_you()\n",
        "\n",
        "st = Student(\"Ali\", \"1234\")\n",
        "print(st.name)\n",
        "st.who_are_you()\n",
        "em = Employee(\"Hassan\", \"1235\")\n",
        "em.who_are_you()\n",
        "p = Professor(\"Mehdi\", \"1236\")\n",
        "p.who_are_you()\n"
      ],
      "metadata": {
        "id": "7RwPt-40DHpM",
        "colab": {
          "base_uri": "https://localhost:8080/"
        },
        "outputId": "75399492-8adb-4e3c-ce85-9a4e7c3a533b"
      },
      "execution_count": null,
      "outputs": [
        {
          "output_type": "stream",
          "name": "stdout",
          "text": [
            "Ali\n",
            "I am a srudent\n",
            "I am a University Member\n",
            "My name's Ali\n",
            "I am a Employee\n",
            "I am a University Member\n",
            "My name's Hassan\n",
            "I am professor\n",
            "I am a Employee\n",
            "I am a University Member\n",
            "My name's Mehdi\n"
          ]
        }
      ]
    },
    {
      "cell_type": "markdown",
      "metadata": {
        "id": "yWIr4hWfj-_2"
      },
      "source": [
        "<div dir = rtl>\n",
        "چهار کلاس ، UniversityMember, Student, Employee و Professor را پیاده سازی کنید.\n",
        "</br>\n",
        "Studentو Professor , ٍEmployee هر سه نوعی UniversityMember هستند.\n",
        "</br>\n",
        "Professor نوعی Employee است.\n",
        "</br>\n",
        "UniversityMember دو ویژگی نام و کدملی دارد. \n",
        "</br>\n",
        "ٍEmployee ویژگی pnum, base_salary  دارد\n",
        "</br>\n",
        "ُStudent ویژگی snum دارد\n",
        "</br>\n",
        "در تمام کلاس ها متدی به نام who_are_you داریم که بسته به نوع کلاس، عبارتی چاپ می کند \n",
        "</br>\n",
        "در کلاس Employee و Professor متد calc_salary را داریم که به عنوان خروجی حقوق را بر می گرداند\n",
        "\n",
        "</br>\n",
        "برای محاسبه حقوق استاد، حقوق پایه در 1.8 ضرب شده و برای حقوق کارمند در 1.2 ضرب شود.\n",
        "\n",
        "\n",
        "\n",
        "</div>\n"
      ]
    },
    {
      "cell_type": "code",
      "execution_count": null,
      "metadata": {
        "id": "8ZGbTJojm7Vk",
        "colab": {
          "base_uri": "https://localhost:8080/"
        },
        "outputId": "d3398eb0-ddd3-4f6d-c849-ce7e2c6c926f"
      },
      "outputs": [
        {
          "output_type": "stream",
          "name": "stdout",
          "text": [
            "Ali\n",
            "I am a srudent with student number 12\n",
            "I am a University Member\n",
            "My name's Ali\n",
            "I am a Employee\n",
            "I am a University Member\n",
            "My name's hassan\n",
            "1200.0\n",
            "3600.0\n"
          ]
        }
      ],
      "source": [
        "class UniversityMember :\n",
        "  def __init__(self, name, icode) :\n",
        "    self.name = name\n",
        "    self.icode = icode\n",
        "  def who_are_you(self):\n",
        "    print(\"I am a University Member\")\n",
        "    print(\"My name's \"+self.name)\n",
        "\n",
        "class Student(UniversityMember) :\n",
        "  def __init__(self,name, icode, snum) :\n",
        "    self.snum = snum\n",
        "    super().__init__(name,icode)\n",
        "\n",
        "  def who_are_you(self) :\n",
        "    print(\"I am a srudent with student number \"+self.snum)\n",
        "    super().who_are_you()\n",
        "\n",
        "class Employee(UniversityMember) :\n",
        "  def __init__(self, name, icode, bs,pnum):\n",
        "    self.pnum = pnum\n",
        "    self.base_salary = bs\n",
        "    super().__init__(name,icode)\n",
        "\n",
        "  def who_are_you(self):\n",
        "    print(\"I am a Employee\")\n",
        "    super().who_are_you()\n",
        "\n",
        "  def calc_salary(self) :\n",
        "    return self.base_salary * 1.2\n",
        "\n",
        "class Professor(Employee) :\n",
        "\n",
        "  def calc_salary(self):\n",
        "    return self.base_salary * 1.8\n",
        "    \n",
        "  def who_are_you(self) :\n",
        "    print(\"I am professor\")\n",
        "    super().who_are_you()\n",
        "\n",
        "st = Student(\"Ali\", \"1234\", \"12\")\n",
        "print(st.name)\n",
        "st.who_are_you()\n",
        "em = Employee(\"hassan\", \"1235\", 1000, \"11\")\n",
        "em.who_are_you()\n",
        "print(em.calc_salary())\n",
        "p = Professor(\"Mehdi\", \"1236\", 2000, \"12\")\n",
        "print(p.calc_salary())\n",
        "#p.who_are_you()\n"
      ]
    },
    {
      "cell_type": "code",
      "source": [
        "class UniversityMember :\n",
        "  def __init__(self, **args) :\n",
        "    self.name = args['name']\n",
        "    self.icode = args['icode']\n",
        "  def who_are_you(self):\n",
        "    print(\"I am a University Member\")\n",
        "    print(\"My name's \"+self.name)\n",
        "\n",
        "class Student(UniversityMember) :\n",
        "  def __init__(self,**args) :\n",
        "    self.snum = args['snum']\n",
        "    super().__init__(**args)\n",
        "\n",
        "  def who_are_you(self) :\n",
        "    print(\"I am a srudent with student number \"+self.snum)\n",
        "    super().who_are_you()\n",
        "\n",
        "class Employee(UniversityMember) :\n",
        "  def __init__(self, **args):\n",
        "    self.pnum = args['pnum']\n",
        "    self.base_salary = args['bs']\n",
        "    super().__init__(**args)\n",
        "\n",
        "  def who_are_you(self):\n",
        "    print(\"I am a Employee\")\n",
        "    super().who_are_you()\n",
        "\n",
        "  def calc_salary(self) :\n",
        "    return self.base_salary * 1.2\n",
        "\n",
        "class Professor(Employee) :\n",
        "\n",
        "  def calc_salary(self):\n",
        "    return self.base_salary * 1.8\n",
        "    \n",
        "  def who_are_you(self) :\n",
        "    print(\"I am professor\")\n",
        "    super().who_are_you()\n",
        "\n",
        "st = Student(name=\"Ali\", icode=\"1234\", snum=\"12\")\n",
        "print(st.name)\n",
        "st.who_are_you()\n",
        "em = Employee(name=\"hassan\", icode=\"1235\", bs=1000, pnum=\"11\")\n",
        "em.who_are_you()\n",
        "print(em.calc_salary())\n",
        "p = Professor(name=\"Mehdi\", icode=\"1236\", bs=2000, pnum=\"12\")\n",
        "print(p.calc_salary())\n",
        "#p.who_are_you()\n"
      ],
      "metadata": {
        "id": "yjLv4GakqRIV",
        "colab": {
          "base_uri": "https://localhost:8080/"
        },
        "outputId": "793fea65-75cb-4831-eb33-70585fda11e0"
      },
      "execution_count": null,
      "outputs": [
        {
          "output_type": "stream",
          "name": "stdout",
          "text": [
            "Ali\n",
            "I am a srudent with student number 12\n",
            "I am a University Member\n",
            "My name's Ali\n",
            "I am a Employee\n",
            "I am a University Member\n",
            "My name's hassan\n",
            "1200.0\n",
            "3600.0\n"
          ]
        }
      ]
    },
    {
      "cell_type": "markdown",
      "metadata": {
        "id": "PjoZ1gAeI-E-"
      },
      "source": [
        "<div dir=rtl>\n",
        "مشکل در ارث بری چندگانه\n",
        "</br>\n",
        "فرض کنید در کلاس های بالا یک کلاس Assistant داریم که هم نوعی professor است و هم نوعی دانشجو\n",
        "</div>"
      ]
    },
    {
      "cell_type": "code",
      "execution_count": null,
      "metadata": {
        "id": "KgEhVt13z3S3",
        "colab": {
          "base_uri": "https://localhost:8080/"
        },
        "outputId": "765b6e3d-dba6-446c-c8e5-7d64c706aa80"
      },
      "outputs": [
        {
          "output_type": "stream",
          "name": "stdout",
          "text": [
            "Ali\n"
          ]
        }
      ],
      "source": [
        "class Assistant(Student, Professor) :\n",
        "\n",
        "  def __init__(self, **args):\n",
        "    super().__init__(**args)\n",
        "\n",
        "\n",
        "A = Assistant(name=\"Ali\", icode=\"1234\", snum=\"12\", pnum=\"13\", bs=1000)\n",
        "print(A.name)"
      ]
    }
  ],
  "metadata": {
    "colab": {
      "provenance": [],
      "authorship_tag": "ABX9TyPcTuVZ2KxQ1OAxzb9xzTmk",
      "include_colab_link": true
    },
    "kernelspec": {
      "display_name": "Python 3",
      "name": "python3"
    },
    "language_info": {
      "name": "python"
    }
  },
  "nbformat": 4,
  "nbformat_minor": 0
}